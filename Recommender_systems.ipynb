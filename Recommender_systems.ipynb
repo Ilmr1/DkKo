{
 "cells": [
  {
   "metadata": {},
   "cell_type": "markdown",
   "source": [
    "# 11. Recommender systems\n",
    "\n",
    "## Introduction to recommender systems\n",
    "\n",
    "Recommendation algorithms provide the customers of companies such as Netflix, Amazon and YouTube intelligent suggestions about the items they might be interested in. There are many alternative approaches to constructing such algorithms. One of them is called **content-based filtering**, which uses the items' metadata (or descriptive characteristics) as explanatory variables to *e.g.* create models for identifying similar items than those the customer has previously expressed interest to. However, in this module we shall focus on another very common technique called **collaborative filtering**.\n",
    "\n",
    "Collaborative filtering generates recommendations about what the user might enjoy on the basis of collected reactions from other users. This technique can be approached from two alternative directions: **item-based** (looking for items that elicit similar reactions) or **user-based** (looking for users with similar tastes) collaborative filtering. Below, we shall investigate both of these alternative approaches.  "
   ],
   "id": "4f2da71ec522dd1"
  },
  {
   "metadata": {},
   "cell_type": "markdown",
   "source": [
    "## Item-based collaborative filtering\n",
    "\n",
    "Collaborative filtering requires a dataset of user responses (purchase history, reviews, ratings etc.) concerning a set of items. As an example, let us consider the following simple table of user ratings given by six users (U1, ..., U6) in a scale of 1 ... 5 stars, to a set of five different movies (M1, ..., M5).\n",
    "\n",
    "\n",
    "|     | U1  | U2  | U3  | U4  | U5  | U6  | \n",
    "|:---:|:---:|:---:|:---:|:---:|:---:|:---:|\n",
    "| M1  |  5  |     |  2  |     |  1  |  1  |\n",
    "| M2  |     |  1  |  4  |  3  |  5  |  4  |\n",
    "| M3  |  4  |  4  |  2  |  2  |     |  1  |\n",
    "| M4  |  3  |     |  5  |     |  4  |  3  |\n",
    "| M5  |  2  |  2  |     |     |  5  |  5  |"
   ],
   "id": "afa86070019af56"
  },
  {
   "metadata": {},
   "cell_type": "code",
   "outputs": [],
   "execution_count": null,
   "source": "",
   "id": "d93113cb7475c9b9"
  }
 ],
 "metadata": {
  "kernelspec": {
   "display_name": "Python 3",
   "language": "python",
   "name": "python3"
  },
  "language_info": {
   "codemirror_mode": {
    "name": "ipython",
    "version": 2
   },
   "file_extension": ".py",
   "mimetype": "text/x-python",
   "name": "python",
   "nbconvert_exporter": "python",
   "pygments_lexer": "ipython2",
   "version": "2.7.6"
  }
 },
 "nbformat": 4,
 "nbformat_minor": 5
}
