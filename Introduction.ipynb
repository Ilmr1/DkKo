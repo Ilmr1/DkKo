{
 "cells": [
  {
   "cell_type": "markdown",
   "source": [
    "# 1. Tools of Data Analysis with Python\n",
    "\n",
    "## 1.1 Getting Started: Jupyter Notebook\n",
    "\n",
    "This course aims to provide an introduction to data analysis and machine learning with Python. You will learn ideas and concepts about how to extract useful information from gathered data - in order to gain important new insights and draw interesting conclusions from its contents. Such information is often not easily or directly attainable, and can only be accessed with the help of specialized methods.\n",
    "\n",
    "The Python programming language offers a large number of libraries for analysing and manipulating data. A convenient way to get started is by installing a free Python distribution called *Anaconda* (www.anaconda.com). In addition to standard libraries, Anaconda automatically incorporates many of the central data science tools and packages - including *Jupyter Notebook*, a web-based interactive environment, which provides a platform to write and execute Python code and complement it with explanatory text and rich annotations. All the material for this course (including this document) will be provided as notebook documents, denoted by the `.ipynb` extension.\n",
    "\n",
    "After installing the Anaconda distribution, you will find Jupyter Notebook among the installed applications. On launching it, a directory listing opens up in a web browser. You can either locate and select an existing notebook for opening, or create a new notebook: press the button \"New\" in upper right corner of the page, and select \"Notebook: Python 3 (ipykernel)\".  \n",
    "\n",
    "Jupyter Notebook documents contain two kinds of cells: *code cells* for writing and executing Python code, and *markdown cells* (like this one) for annotation purposes. To run the code in one of the code cells, select the cell first and then either press SHIFT + ENTER, or the \"Run\" button in the above toolbar. The interactive-mode IPython interpreter then displays the resulting output (if any) for inspection. With markdown cells, you can create explanatory content to accompany your code; for additional information, see e.g. https://jupyter-notebook.readthedocs.io/en/stable/.\n",
    "\n",
    "**NOTE:** When the notebook is reopened after closing it, the kernel restarts, and all the variables from before are lost; you will have to execute the code again to restore their values. Also, when working with notebooks and constantly rewriting and executing the cells, sometimes errors might creep up and cause the kernel to crash or the notebook to get stuck. In this case, it is usually a good idea to restart the kernel and execute its cells all over again; this can conveniently be accomplished by selecting \"Restart & Run All\" from the \"Kernel\" dropdown menu.\n",
    "\n",
    "As the next step, execute the first code cell right below to import two Python modules: **NumPy** is a basic package for scientific computing, whereas the **pandas** library is a specialized library for reading and manipulating data. These two libraries form the background for any data analysis project with Python. In the following, we take a brief look at both of them."
   ],
   "metadata": {
    "collapsed": false
   },
   "id": "49eb544740be2ce4"
  },
  {
   "cell_type": "code",
   "id": "ceaaa4d2",
   "metadata": {
    "ExecuteTime": {
     "end_time": "2024-06-04T08:57:54.418137Z",
     "start_time": "2024-06-04T08:57:52.216315Z"
    }
   },
   "source": [
    "import numpy as np\n",
    "import pandas as pd"
   ],
   "outputs": [],
   "execution_count": 1
  },
  {
   "cell_type": "markdown",
   "id": "98f14d8b",
   "metadata": {},
   "source": [
    "## 1.2 Basic Properties of NumPy Arrays\n",
    "\n",
    "NumPy is an open-source extension library of Python for comprehensive and efficient numerical computation.\n",
    "\n",
    "In particular, the NumPy library introduces a powerful new object called *ndarray* (N-dimensional array), or *array* for short, which can be thought of as an enhanced version of lists in standard Python. NumPy arrays have many useful computational features, which are optimized for rapid execution. Practically all data analysis and machine learning libraries are based on using NumPy arrays in the background. Below, we get acquainted with some of their basic properties.\n",
    "\n",
    "A new array can be created by converting a Python list with the use of the `array()` function:"
   ]
  },
  {
   "cell_type": "code",
   "id": "3ab0446d",
   "metadata": {
    "ExecuteTime": {
     "end_time": "2024-06-04T08:57:54.434966Z",
     "start_time": "2024-06-04T08:57:54.419212Z"
    }
   },
   "source": [
    "arr1d = np.array([1, 2, 3, 4, 5])\n",
    "arr1d"
   ],
   "outputs": [
    {
     "data": {
      "text/plain": [
       "array([1, 2, 3, 4, 5])"
      ]
     },
     "execution_count": 2,
     "metadata": {},
     "output_type": "execute_result"
    }
   ],
   "execution_count": 2
  },
  {
   "cell_type": "markdown",
   "id": "b9a708c1",
   "metadata": {},
   "source": [
    "Note that executing the second of these two code lines results in the value of the variable `arr1d` to be displayed in the IPython output; this is a useful way to make sure that the code has intended consequences (however, this only applies to the final line in each code cell). The array object has the following useful attributes:"
   ]
  },
  {
   "cell_type": "code",
   "execution_count": 19,
   "id": "31ddd677",
   "metadata": {
    "ExecuteTime": {
     "end_time": "2024-05-20T12:42:58.483758400Z",
     "start_time": "2024-05-20T12:42:58.300621400Z"
    }
   },
   "outputs": [
    {
     "name": "stdout",
     "output_type": "stream",
     "text": [
      "int32\n",
      "1\n",
      "5\n",
      "(5,)\n"
     ]
    }
   ],
   "source": [
    "print(arr1d.dtype) # data type of elements in array\n",
    "print(arr1d.ndim) # array dimension / number of axes / rank\n",
    "print(arr1d.size) # number of elements in array\n",
    "print(arr1d.shape) # array shape = size of each dimension (tuple)"
   ]
  },
  {
   "cell_type": "markdown",
   "id": "8a9959fd",
   "metadata": {},
   "source": [
    "Arrays can have any dimension, but an important special case is a two-dimensional one: such arrays can used to represent data in a form of a simple table. Here is an example with four rows and three columns:"
   ]
  },
  {
   "cell_type": "code",
   "execution_count": 20,
   "id": "ea14c1a0",
   "metadata": {
    "ExecuteTime": {
     "end_time": "2024-05-20T12:42:58.483758400Z",
     "start_time": "2024-05-20T12:42:58.333768400Z"
    }
   },
   "outputs": [
    {
     "data": {
      "text/plain": "array([[ 1.,  2.,  3.],\n       [ 4.,  5.,  6.],\n       [ 7.,  8.,  9.],\n       [10., 11., 12.]])"
     },
     "execution_count": 20,
     "metadata": {},
     "output_type": "execute_result"
    }
   ],
   "source": [
    "arr2d = np.array([[1., 2., 3.], [4., 5., 6.], [7., 8., 9.], [10., 11., 12.]])\n",
    "arr2d"
   ]
  },
  {
   "cell_type": "markdown",
   "id": "0bf4d958",
   "metadata": {},
   "source": [
    "As seen below, the inclusion of the decimal point ensures that the elements are treated as floating-point numbers instead of integers (the trailing zeroes in the fractional part can be omitted):"
   ]
  },
  {
   "cell_type": "code",
   "execution_count": 21,
   "id": "ba1c5664",
   "metadata": {
    "ExecuteTime": {
     "end_time": "2024-05-20T12:42:58.483758400Z",
     "start_time": "2024-05-20T12:42:58.350603100Z"
    }
   },
   "outputs": [
    {
     "name": "stdout",
     "output_type": "stream",
     "text": [
      "float64\n",
      "2\n",
      "12\n",
      "(4, 3)\n"
     ]
    }
   ],
   "source": [
    "print(arr2d.dtype) \n",
    "print(arr2d.ndim) \n",
    "print(arr2d.size) \n",
    "print(arr2d.shape)"
   ]
  },
  {
   "cell_type": "markdown",
   "id": "ce01b981",
   "metadata": {},
   "source": [
    "Individual array elements can be accessed as follows (note that indexing begins at zero, as with lists):"
   ]
  },
  {
   "cell_type": "code",
   "execution_count": 22,
   "id": "f3cd0f8f",
   "metadata": {
    "ExecuteTime": {
     "end_time": "2024-05-20T12:42:58.483758400Z",
     "start_time": "2024-05-20T12:42:58.367443100Z"
    }
   },
   "outputs": [
    {
     "name": "stdout",
     "output_type": "stream",
     "text": [
      "1\n",
      "6.0\n"
     ]
    }
   ],
   "source": [
    "print(arr1d[0]) # first element of 1D array\n",
    "print(arr2d[1][2]) # element in 2nd row, 3rd column"
   ]
  },
  {
   "cell_type": "markdown",
   "id": "070e647f",
   "metadata": {},
   "source": [
    "Unlike lists, NumPy arrays can be subjected to arithmetic operations, which are performed *elementwise*. The same applies for e.g. roots and trigonometric functions; however, remember to use the NumPy versions of these functions (prefixed with the `np.` alias)."
   ]
  },
  {
   "cell_type": "code",
   "execution_count": 23,
   "id": "e066d7a9",
   "metadata": {
    "ExecuteTime": {
     "end_time": "2024-05-20T12:42:58.500657200Z",
     "start_time": "2024-05-20T12:42:58.383800100Z"
    }
   },
   "outputs": [
    {
     "name": "stdout",
     "output_type": "stream",
     "text": [
      "[4 5 6 7 8]\n",
      "[[0.5 1.  1.5]\n",
      " [2.  2.5 3. ]\n",
      " [3.5 4.  4.5]\n",
      " [5.  5.5 6. ]]\n",
      "[ 1  4  9 16 25]\n",
      "[1.         1.41421356 1.73205081 2.         2.23606798]\n"
     ]
    }
   ],
   "source": [
    "print(arr1d + 3) # adds 3 to each element\n",
    "print(arr2d / 2.0) # divides all the elements by 2.0\n",
    "print(arr1d ** 2) # squares all elements\n",
    "print(np.sqrt(arr1d)) # replaces all elements with their square roots"
   ]
  },
  {
   "cell_type": "markdown",
   "id": "7e7f040d",
   "metadata": {},
   "source": [
    "Subsets can be extracted out of existing arrays via an operation called *slicing*. The desired selection range is specified by giving the start and end indices, separated by a colon. These ranges can be specified for each of the axes in the array separately. If the start and/or end index is omitted, the default values are 0 and the size of the axis, respectively. Here are some examples of array slicing:"
   ]
  },
  {
   "cell_type": "code",
   "execution_count": 24,
   "id": "66690791",
   "metadata": {
    "ExecuteTime": {
     "end_time": "2024-05-20T12:42:58.500657200Z",
     "start_time": "2024-05-20T12:42:58.403481200Z"
    }
   },
   "outputs": [
    {
     "name": "stdout",
     "output_type": "stream",
     "text": [
      "[[1. 2. 3.]\n",
      " [4. 5. 6.]\n",
      " [7. 8. 9.]]\n",
      "[[ 1.]\n",
      " [ 4.]\n",
      " [ 7.]\n",
      " [10.]]\n",
      "[[ 2.  3.]\n",
      " [ 5.  6.]\n",
      " [ 8.  9.]\n",
      " [11. 12.]]\n",
      "[1 3 5]\n"
     ]
    }
   ],
   "source": [
    "print(arr2d[0:3]) # extract rows with indices 0-2 (3 not included) \n",
    "print(arr2d[:,:1]) # extract first column only\n",
    "print(arr2d[:,-2:]) # extract last two columns\n",
    "print(arr1d[::2]) # extract every other element (step size 2)"
   ]
  },
  {
   "cell_type": "markdown",
   "id": "b75903c9",
   "metadata": {},
   "source": [
    "**NOTE:** Slicing produces a *view* (shallow copy) of the original data. Accordingly, any changes in the original array are reflected in the slice as well:"
   ]
  },
  {
   "cell_type": "code",
   "execution_count": 25,
   "id": "3f4c4aa5",
   "metadata": {
    "ExecuteTime": {
     "end_time": "2024-05-20T12:42:58.500657200Z",
     "start_time": "2024-05-20T12:42:58.433736100Z"
    }
   },
   "outputs": [
    {
     "data": {
      "text/plain": "array([0, 2, 3])"
     },
     "execution_count": 25,
     "metadata": {},
     "output_type": "execute_result"
    }
   ],
   "source": [
    "a = np.array([1, 2, 3, 4, 5, 6])\n",
    "a_slice = a[0:3] # array([1, 2, 3])\n",
    "a[0] = 0 # changing the first element of a\n",
    "a_slice # ... also modifies the slice"
   ]
  },
  {
   "cell_type": "markdown",
   "id": "4a2fa369",
   "metadata": {},
   "source": [
    "In order to produce a true separate copy of an array, you can use the `copy()` method of the array:"
   ]
  },
  {
   "cell_type": "code",
   "execution_count": 26,
   "id": "cfd6c6db",
   "metadata": {
    "ExecuteTime": {
     "end_time": "2024-05-20T12:42:58.500657200Z",
     "start_time": "2024-05-20T12:42:58.450557200Z"
    }
   },
   "outputs": [
    {
     "data": {
      "text/plain": "array([1, 2, 3, 4, 5, 6])"
     },
     "execution_count": 26,
     "metadata": {},
     "output_type": "execute_result"
    }
   ],
   "source": [
    "a = np.array([1, 2, 3, 4, 5, 6])\n",
    "a_copy = a.copy()\n",
    "a[0] = 0 # changing the first element of a\n",
    "a_copy # ... does not affect a_copy"
   ]
  },
  {
   "cell_type": "markdown",
   "id": "796bab3b",
   "metadata": {},
   "source": [
    "Sometimes it is useful to generate an array with some desired initial content. The following cell gives some examples."
   ]
  },
  {
   "cell_type": "code",
   "execution_count": 27,
   "id": "5e2666d0",
   "metadata": {
    "ExecuteTime": {
     "end_time": "2024-05-20T12:42:58.500657200Z",
     "start_time": "2024-05-20T12:42:58.467464900Z"
    }
   },
   "outputs": [
    {
     "name": "stdout",
     "output_type": "stream",
     "text": [
      "[[0. 0.]\n",
      " [0. 0.]]\n",
      "[[0.93240914 0.43118153 0.94993619]\n",
      " [0.34677851 0.76605527 0.55788306]\n",
      " [0.89474814 0.74865173 0.87582257]]\n",
      "[3 4 5 6 7 8 9]\n",
      "[ 0.   2.5  5.   7.5 10. ]\n"
     ]
    }
   ],
   "source": [
    "print(np.zeros((2,2))) # 2x2 array with all zeroes\n",
    "print(np.random.random((3,3))) # 3x3 array with random values 0 ... 1\n",
    "print(np.arange(3,10)) # sequence from 3 - 9 (10 not included)\n",
    "print(np.linspace(0, 10, 5)) # five evenly spaced values from 0 to 10"
   ]
  },
  {
   "cell_type": "markdown",
   "id": "86683a99",
   "metadata": {},
   "source": [
    "The above listing of the properties of NumPy arrays is by no means exhaustive; see e.g. NumPy user guide (https://numpy.org/devdocs/user/index.html) for much more information.\n",
    "\n",
    "Even though the underlying computation in most data science libraries in Python is performed using NumPy arrays behind the scenes (and, therefore, it is useful to know about their basic properties), it is not always necessary to deal with them directly when writing code. For example, the pandas library introduces another powerful object (DataFrame) for manipulating data in the form of a table. This is our next topic of interest.\n",
    "\n",
    "## 1.3 Pandas and Data Tables\n",
    "\n",
    "In order to conduct data analysis, we obviously need some kind of data to deal with. As our first example, we use the famous *Iris flower dataset* about morphological variation of iris flowers. The dataset comprises measurements of 150 different flower samples belonging to three different species (Iris setosa, Iris virginica, and Iris versicolor). For each sample, four numerical features were measured (length and width of its petals and sepals in units of cm) and recorded together with the species of that sample. \n",
    "\n",
    "This data is provided in the course material in the form of a CSV (comma-separated values) file, and can be easily accessed with the `read_csv` function in the pandas library; execute the following code cell after placing the csv file in the same folder as the notebook document (otherwise, the path to locate the file needs to be specified in the function argument). "
   ]
  },
  {
   "cell_type": "code",
   "execution_count": 28,
   "id": "f80d7741",
   "metadata": {
    "ExecuteTime": {
     "end_time": "2024-05-20T12:42:58.649913400Z",
     "start_time": "2024-05-20T12:42:58.483758400Z"
    }
   },
   "outputs": [
    {
     "ename": "FileNotFoundError",
     "evalue": "[Errno 2] No such file or directory: 'iris.csv'",
     "output_type": "error",
     "traceback": [
      "\u001B[1;31m---------------------------------------------------------------------------\u001B[0m",
      "\u001B[1;31mFileNotFoundError\u001B[0m                         Traceback (most recent call last)",
      "Cell \u001B[1;32mIn[28], line 1\u001B[0m\n\u001B[1;32m----> 1\u001B[0m iris_df \u001B[38;5;241m=\u001B[39m \u001B[43mpd\u001B[49m\u001B[38;5;241;43m.\u001B[39;49m\u001B[43mread_csv\u001B[49m\u001B[43m(\u001B[49m\u001B[38;5;124;43m'\u001B[39;49m\u001B[38;5;124;43miris.csv\u001B[39;49m\u001B[38;5;124;43m'\u001B[39;49m\u001B[43m)\u001B[49m\n\u001B[0;32m      2\u001B[0m iris_df\n",
      "File \u001B[1;32m~\\AppData\\Local\\Programs\\Python\\Python39\\lib\\site-packages\\pandas\\io\\parsers\\readers.py:1026\u001B[0m, in \u001B[0;36mread_csv\u001B[1;34m(filepath_or_buffer, sep, delimiter, header, names, index_col, usecols, dtype, engine, converters, true_values, false_values, skipinitialspace, skiprows, skipfooter, nrows, na_values, keep_default_na, na_filter, verbose, skip_blank_lines, parse_dates, infer_datetime_format, keep_date_col, date_parser, date_format, dayfirst, cache_dates, iterator, chunksize, compression, thousands, decimal, lineterminator, quotechar, quoting, doublequote, escapechar, comment, encoding, encoding_errors, dialect, on_bad_lines, delim_whitespace, low_memory, memory_map, float_precision, storage_options, dtype_backend)\u001B[0m\n\u001B[0;32m   1013\u001B[0m kwds_defaults \u001B[38;5;241m=\u001B[39m _refine_defaults_read(\n\u001B[0;32m   1014\u001B[0m     dialect,\n\u001B[0;32m   1015\u001B[0m     delimiter,\n\u001B[1;32m   (...)\u001B[0m\n\u001B[0;32m   1022\u001B[0m     dtype_backend\u001B[38;5;241m=\u001B[39mdtype_backend,\n\u001B[0;32m   1023\u001B[0m )\n\u001B[0;32m   1024\u001B[0m kwds\u001B[38;5;241m.\u001B[39mupdate(kwds_defaults)\n\u001B[1;32m-> 1026\u001B[0m \u001B[38;5;28;01mreturn\u001B[39;00m \u001B[43m_read\u001B[49m\u001B[43m(\u001B[49m\u001B[43mfilepath_or_buffer\u001B[49m\u001B[43m,\u001B[49m\u001B[43m \u001B[49m\u001B[43mkwds\u001B[49m\u001B[43m)\u001B[49m\n",
      "File \u001B[1;32m~\\AppData\\Local\\Programs\\Python\\Python39\\lib\\site-packages\\pandas\\io\\parsers\\readers.py:620\u001B[0m, in \u001B[0;36m_read\u001B[1;34m(filepath_or_buffer, kwds)\u001B[0m\n\u001B[0;32m    617\u001B[0m _validate_names(kwds\u001B[38;5;241m.\u001B[39mget(\u001B[38;5;124m\"\u001B[39m\u001B[38;5;124mnames\u001B[39m\u001B[38;5;124m\"\u001B[39m, \u001B[38;5;28;01mNone\u001B[39;00m))\n\u001B[0;32m    619\u001B[0m \u001B[38;5;66;03m# Create the parser.\u001B[39;00m\n\u001B[1;32m--> 620\u001B[0m parser \u001B[38;5;241m=\u001B[39m TextFileReader(filepath_or_buffer, \u001B[38;5;241m*\u001B[39m\u001B[38;5;241m*\u001B[39mkwds)\n\u001B[0;32m    622\u001B[0m \u001B[38;5;28;01mif\u001B[39;00m chunksize \u001B[38;5;129;01mor\u001B[39;00m iterator:\n\u001B[0;32m    623\u001B[0m     \u001B[38;5;28;01mreturn\u001B[39;00m parser\n",
      "File \u001B[1;32m~\\AppData\\Local\\Programs\\Python\\Python39\\lib\\site-packages\\pandas\\io\\parsers\\readers.py:1620\u001B[0m, in \u001B[0;36mTextFileReader.__init__\u001B[1;34m(self, f, engine, **kwds)\u001B[0m\n\u001B[0;32m   1617\u001B[0m     \u001B[38;5;28mself\u001B[39m\u001B[38;5;241m.\u001B[39moptions[\u001B[38;5;124m\"\u001B[39m\u001B[38;5;124mhas_index_names\u001B[39m\u001B[38;5;124m\"\u001B[39m] \u001B[38;5;241m=\u001B[39m kwds[\u001B[38;5;124m\"\u001B[39m\u001B[38;5;124mhas_index_names\u001B[39m\u001B[38;5;124m\"\u001B[39m]\n\u001B[0;32m   1619\u001B[0m \u001B[38;5;28mself\u001B[39m\u001B[38;5;241m.\u001B[39mhandles: IOHandles \u001B[38;5;241m|\u001B[39m \u001B[38;5;28;01mNone\u001B[39;00m \u001B[38;5;241m=\u001B[39m \u001B[38;5;28;01mNone\u001B[39;00m\n\u001B[1;32m-> 1620\u001B[0m \u001B[38;5;28mself\u001B[39m\u001B[38;5;241m.\u001B[39m_engine \u001B[38;5;241m=\u001B[39m \u001B[38;5;28;43mself\u001B[39;49m\u001B[38;5;241;43m.\u001B[39;49m\u001B[43m_make_engine\u001B[49m\u001B[43m(\u001B[49m\u001B[43mf\u001B[49m\u001B[43m,\u001B[49m\u001B[43m \u001B[49m\u001B[38;5;28;43mself\u001B[39;49m\u001B[38;5;241;43m.\u001B[39;49m\u001B[43mengine\u001B[49m\u001B[43m)\u001B[49m\n",
      "File \u001B[1;32m~\\AppData\\Local\\Programs\\Python\\Python39\\lib\\site-packages\\pandas\\io\\parsers\\readers.py:1880\u001B[0m, in \u001B[0;36mTextFileReader._make_engine\u001B[1;34m(self, f, engine)\u001B[0m\n\u001B[0;32m   1878\u001B[0m     \u001B[38;5;28;01mif\u001B[39;00m \u001B[38;5;124m\"\u001B[39m\u001B[38;5;124mb\u001B[39m\u001B[38;5;124m\"\u001B[39m \u001B[38;5;129;01mnot\u001B[39;00m \u001B[38;5;129;01min\u001B[39;00m mode:\n\u001B[0;32m   1879\u001B[0m         mode \u001B[38;5;241m+\u001B[39m\u001B[38;5;241m=\u001B[39m \u001B[38;5;124m\"\u001B[39m\u001B[38;5;124mb\u001B[39m\u001B[38;5;124m\"\u001B[39m\n\u001B[1;32m-> 1880\u001B[0m \u001B[38;5;28mself\u001B[39m\u001B[38;5;241m.\u001B[39mhandles \u001B[38;5;241m=\u001B[39m \u001B[43mget_handle\u001B[49m\u001B[43m(\u001B[49m\n\u001B[0;32m   1881\u001B[0m \u001B[43m    \u001B[49m\u001B[43mf\u001B[49m\u001B[43m,\u001B[49m\n\u001B[0;32m   1882\u001B[0m \u001B[43m    \u001B[49m\u001B[43mmode\u001B[49m\u001B[43m,\u001B[49m\n\u001B[0;32m   1883\u001B[0m \u001B[43m    \u001B[49m\u001B[43mencoding\u001B[49m\u001B[38;5;241;43m=\u001B[39;49m\u001B[38;5;28;43mself\u001B[39;49m\u001B[38;5;241;43m.\u001B[39;49m\u001B[43moptions\u001B[49m\u001B[38;5;241;43m.\u001B[39;49m\u001B[43mget\u001B[49m\u001B[43m(\u001B[49m\u001B[38;5;124;43m\"\u001B[39;49m\u001B[38;5;124;43mencoding\u001B[39;49m\u001B[38;5;124;43m\"\u001B[39;49m\u001B[43m,\u001B[49m\u001B[43m \u001B[49m\u001B[38;5;28;43;01mNone\u001B[39;49;00m\u001B[43m)\u001B[49m\u001B[43m,\u001B[49m\n\u001B[0;32m   1884\u001B[0m \u001B[43m    \u001B[49m\u001B[43mcompression\u001B[49m\u001B[38;5;241;43m=\u001B[39;49m\u001B[38;5;28;43mself\u001B[39;49m\u001B[38;5;241;43m.\u001B[39;49m\u001B[43moptions\u001B[49m\u001B[38;5;241;43m.\u001B[39;49m\u001B[43mget\u001B[49m\u001B[43m(\u001B[49m\u001B[38;5;124;43m\"\u001B[39;49m\u001B[38;5;124;43mcompression\u001B[39;49m\u001B[38;5;124;43m\"\u001B[39;49m\u001B[43m,\u001B[49m\u001B[43m \u001B[49m\u001B[38;5;28;43;01mNone\u001B[39;49;00m\u001B[43m)\u001B[49m\u001B[43m,\u001B[49m\n\u001B[0;32m   1885\u001B[0m \u001B[43m    \u001B[49m\u001B[43mmemory_map\u001B[49m\u001B[38;5;241;43m=\u001B[39;49m\u001B[38;5;28;43mself\u001B[39;49m\u001B[38;5;241;43m.\u001B[39;49m\u001B[43moptions\u001B[49m\u001B[38;5;241;43m.\u001B[39;49m\u001B[43mget\u001B[49m\u001B[43m(\u001B[49m\u001B[38;5;124;43m\"\u001B[39;49m\u001B[38;5;124;43mmemory_map\u001B[39;49m\u001B[38;5;124;43m\"\u001B[39;49m\u001B[43m,\u001B[49m\u001B[43m \u001B[49m\u001B[38;5;28;43;01mFalse\u001B[39;49;00m\u001B[43m)\u001B[49m\u001B[43m,\u001B[49m\n\u001B[0;32m   1886\u001B[0m \u001B[43m    \u001B[49m\u001B[43mis_text\u001B[49m\u001B[38;5;241;43m=\u001B[39;49m\u001B[43mis_text\u001B[49m\u001B[43m,\u001B[49m\n\u001B[0;32m   1887\u001B[0m \u001B[43m    \u001B[49m\u001B[43merrors\u001B[49m\u001B[38;5;241;43m=\u001B[39;49m\u001B[38;5;28;43mself\u001B[39;49m\u001B[38;5;241;43m.\u001B[39;49m\u001B[43moptions\u001B[49m\u001B[38;5;241;43m.\u001B[39;49m\u001B[43mget\u001B[49m\u001B[43m(\u001B[49m\u001B[38;5;124;43m\"\u001B[39;49m\u001B[38;5;124;43mencoding_errors\u001B[39;49m\u001B[38;5;124;43m\"\u001B[39;49m\u001B[43m,\u001B[49m\u001B[43m \u001B[49m\u001B[38;5;124;43m\"\u001B[39;49m\u001B[38;5;124;43mstrict\u001B[39;49m\u001B[38;5;124;43m\"\u001B[39;49m\u001B[43m)\u001B[49m\u001B[43m,\u001B[49m\n\u001B[0;32m   1888\u001B[0m \u001B[43m    \u001B[49m\u001B[43mstorage_options\u001B[49m\u001B[38;5;241;43m=\u001B[39;49m\u001B[38;5;28;43mself\u001B[39;49m\u001B[38;5;241;43m.\u001B[39;49m\u001B[43moptions\u001B[49m\u001B[38;5;241;43m.\u001B[39;49m\u001B[43mget\u001B[49m\u001B[43m(\u001B[49m\u001B[38;5;124;43m\"\u001B[39;49m\u001B[38;5;124;43mstorage_options\u001B[39;49m\u001B[38;5;124;43m\"\u001B[39;49m\u001B[43m,\u001B[49m\u001B[43m \u001B[49m\u001B[38;5;28;43;01mNone\u001B[39;49;00m\u001B[43m)\u001B[49m\u001B[43m,\u001B[49m\n\u001B[0;32m   1889\u001B[0m \u001B[43m\u001B[49m\u001B[43m)\u001B[49m\n\u001B[0;32m   1890\u001B[0m \u001B[38;5;28;01massert\u001B[39;00m \u001B[38;5;28mself\u001B[39m\u001B[38;5;241m.\u001B[39mhandles \u001B[38;5;129;01mis\u001B[39;00m \u001B[38;5;129;01mnot\u001B[39;00m \u001B[38;5;28;01mNone\u001B[39;00m\n\u001B[0;32m   1891\u001B[0m f \u001B[38;5;241m=\u001B[39m \u001B[38;5;28mself\u001B[39m\u001B[38;5;241m.\u001B[39mhandles\u001B[38;5;241m.\u001B[39mhandle\n",
      "File \u001B[1;32m~\\AppData\\Local\\Programs\\Python\\Python39\\lib\\site-packages\\pandas\\io\\common.py:873\u001B[0m, in \u001B[0;36mget_handle\u001B[1;34m(path_or_buf, mode, encoding, compression, memory_map, is_text, errors, storage_options)\u001B[0m\n\u001B[0;32m    868\u001B[0m \u001B[38;5;28;01melif\u001B[39;00m \u001B[38;5;28misinstance\u001B[39m(handle, \u001B[38;5;28mstr\u001B[39m):\n\u001B[0;32m    869\u001B[0m     \u001B[38;5;66;03m# Check whether the filename is to be opened in binary mode.\u001B[39;00m\n\u001B[0;32m    870\u001B[0m     \u001B[38;5;66;03m# Binary mode does not support 'encoding' and 'newline'.\u001B[39;00m\n\u001B[0;32m    871\u001B[0m     \u001B[38;5;28;01mif\u001B[39;00m ioargs\u001B[38;5;241m.\u001B[39mencoding \u001B[38;5;129;01mand\u001B[39;00m \u001B[38;5;124m\"\u001B[39m\u001B[38;5;124mb\u001B[39m\u001B[38;5;124m\"\u001B[39m \u001B[38;5;129;01mnot\u001B[39;00m \u001B[38;5;129;01min\u001B[39;00m ioargs\u001B[38;5;241m.\u001B[39mmode:\n\u001B[0;32m    872\u001B[0m         \u001B[38;5;66;03m# Encoding\u001B[39;00m\n\u001B[1;32m--> 873\u001B[0m         handle \u001B[38;5;241m=\u001B[39m \u001B[38;5;28;43mopen\u001B[39;49m\u001B[43m(\u001B[49m\n\u001B[0;32m    874\u001B[0m \u001B[43m            \u001B[49m\u001B[43mhandle\u001B[49m\u001B[43m,\u001B[49m\n\u001B[0;32m    875\u001B[0m \u001B[43m            \u001B[49m\u001B[43mioargs\u001B[49m\u001B[38;5;241;43m.\u001B[39;49m\u001B[43mmode\u001B[49m\u001B[43m,\u001B[49m\n\u001B[0;32m    876\u001B[0m \u001B[43m            \u001B[49m\u001B[43mencoding\u001B[49m\u001B[38;5;241;43m=\u001B[39;49m\u001B[43mioargs\u001B[49m\u001B[38;5;241;43m.\u001B[39;49m\u001B[43mencoding\u001B[49m\u001B[43m,\u001B[49m\n\u001B[0;32m    877\u001B[0m \u001B[43m            \u001B[49m\u001B[43merrors\u001B[49m\u001B[38;5;241;43m=\u001B[39;49m\u001B[43merrors\u001B[49m\u001B[43m,\u001B[49m\n\u001B[0;32m    878\u001B[0m \u001B[43m            \u001B[49m\u001B[43mnewline\u001B[49m\u001B[38;5;241;43m=\u001B[39;49m\u001B[38;5;124;43m\"\u001B[39;49m\u001B[38;5;124;43m\"\u001B[39;49m\u001B[43m,\u001B[49m\n\u001B[0;32m    879\u001B[0m \u001B[43m        \u001B[49m\u001B[43m)\u001B[49m\n\u001B[0;32m    880\u001B[0m     \u001B[38;5;28;01melse\u001B[39;00m:\n\u001B[0;32m    881\u001B[0m         \u001B[38;5;66;03m# Binary mode\u001B[39;00m\n\u001B[0;32m    882\u001B[0m         handle \u001B[38;5;241m=\u001B[39m \u001B[38;5;28mopen\u001B[39m(handle, ioargs\u001B[38;5;241m.\u001B[39mmode)\n",
      "\u001B[1;31mFileNotFoundError\u001B[0m: [Errno 2] No such file or directory: 'iris.csv'"
     ]
    }
   ],
   "source": [
    "iris_df = pd.read_csv('iris.csv')\n",
    "iris_df"
   ]
  },
  {
   "cell_type": "markdown",
   "id": "b3a74b7b",
   "metadata": {},
   "source": [
    "The data is now available for further analyzing as a pandas *DataFrame* object; it has the form of a table with 150 rows and 5 columns (for clarity, only a few rows from the beginning and the end of the table are displayed). Each row in the data corresponds to a single flower **sample**, and the columns of the data represent the recorded **features** of the samples. In this dataset, each sample is characterized by five recorded features: four *numerical* features (sepal length, sepal width, petal length and petal width) and one *categorical* feature (species). The leftmost column in the output containing the unique row indices from 0 to 149 is auto-generated by pandas, and not part of the actual data. The column index names are set according to the header row of the CSV file.\n",
    "\n",
    "The distinction between numerical and categorical features is very significant in data analysis. Numerical features usually represent results of measurements; their values can be ordered in a meaningful way, and often vary on a continuous scale. In contrast, categorical features (such as the flower species in this example dataset) can only take on a limited number of discrete (often mutually exclusive) values, usually with no particular order among them. \n",
    "\n",
    "Pandas provides a huge selection of operations for manipulating the information stored in DataFrames. First, individual samples (rows) can be accessed by their indices using the `loc` attribute:"
   ]
  },
  {
   "cell_type": "code",
   "execution_count": null,
   "id": "d1749984",
   "metadata": {
    "ExecuteTime": {
     "start_time": "2024-05-20T12:42:58.567370800Z"
    }
   },
   "outputs": [],
   "source": [
    "print(iris_df.loc[0]) # row with index 0\n",
    "print(iris_df.loc[[0,3]]) # list of indices (0 and 3)\n",
    "print(iris_df.loc[0:3]) # index slice"
   ]
  },
  {
   "cell_type": "markdown",
   "id": "13dd479b",
   "metadata": {},
   "source": [
    "Individual columns can be accessed by their index names:"
   ]
  },
  {
   "cell_type": "code",
   "execution_count": null,
   "id": "0505d650",
   "metadata": {
    "ExecuteTime": {
     "start_time": "2024-05-20T12:42:58.567370800Z"
    }
   },
   "outputs": [],
   "source": [
    "iris_df['sepal_length']"
   ]
  },
  {
   "cell_type": "markdown",
   "id": "5abbeef8",
   "metadata": {},
   "source": [
    "The resulting output is a pandas *Series* object: a one-dimensional counterpart of a DataFrame. Also, a single data item can be accessed as follows:"
   ]
  },
  {
   "cell_type": "code",
   "execution_count": null,
   "id": "39d9adb0",
   "metadata": {
    "ExecuteTime": {
     "start_time": "2024-05-20T12:42:58.567370800Z"
    }
   },
   "outputs": [],
   "source": [
    "iris_df.loc[0, 'sepal_width'] # sepal width of sample with index 0"
   ]
  },
  {
   "cell_type": "markdown",
   "id": "53fa3c9a",
   "metadata": {},
   "source": [
    "Any subsets can be extracted by selecting rows and columns with slices and lists for both:"
   ]
  },
  {
   "cell_type": "code",
   "execution_count": null,
   "id": "d6991707",
   "metadata": {
    "ExecuteTime": {
     "start_time": "2024-05-20T12:42:58.567370800Z"
    }
   },
   "outputs": [],
   "source": [
    "iris_df.loc[147:, ['petal_length', 'petal_width']] # petal sizes for last three samples"
   ]
  },
  {
   "cell_type": "markdown",
   "id": "2a7e526f",
   "metadata": {},
   "source": [
    "One interesting property of DataFrames is the possibility to use Boolean conditions as indices to apply filtering based on the feature values:"
   ]
  },
  {
   "cell_type": "code",
   "execution_count": null,
   "id": "07e15685",
   "metadata": {
    "ExecuteTime": {
     "start_time": "2024-05-20T12:42:58.567370800Z"
    }
   },
   "outputs": [],
   "source": [
    "iris_df[iris_df['petal_length'] < 1.4] # all samples with petal length less than 1.4 cm"
   ]
  },
  {
   "cell_type": "markdown",
   "id": "f2f69b16",
   "metadata": {},
   "source": [
    "Rows or columns can be deleted with the `drop()` function. "
   ]
  },
  {
   "cell_type": "code",
   "execution_count": null,
   "id": "1c04256b",
   "metadata": {
    "ExecuteTime": {
     "start_time": "2024-05-20T12:42:58.567370800Z"
    }
   },
   "outputs": [],
   "source": [
    "print(iris_df.drop(iris_df.index[5:145])) # delete rows with indices from 5 to but not including 145\n",
    "print(iris_df.drop(columns = 'species')) # drop the \"species\" column"
   ]
  },
  {
   "cell_type": "markdown",
   "id": "091b002a",
   "metadata": {},
   "source": [
    "Finally, comprehensive descriptive statistics of the DataFrame can be easily accessed with the `describe()` function. If the DataFrame contains mixed data types, only numeric columns are included in the analysis. The categorical data can also be included by adding the option `include = 'all'` to the function call. "
   ]
  },
  {
   "cell_type": "code",
   "execution_count": null,
   "id": "2c211ef6",
   "metadata": {
    "ExecuteTime": {
     "start_time": "2024-05-20T12:42:58.567370800Z"
    }
   },
   "outputs": [],
   "source": [
    "iris_df.describe(include = 'all')"
   ]
  },
  {
   "cell_type": "markdown",
   "id": "2cf5e83b",
   "metadata": {},
   "source": [
    "This concludes our brief introduction to the pandas DataFrames. See pandas user guide (https://pandas.pydata.org/docs/user_guide/index.html) for much more."
   ]
  }
 ],
 "metadata": {
  "kernelspec": {
   "display_name": "Python 3 (ipykernel)",
   "language": "python",
   "name": "python3"
  },
  "language_info": {
   "codemirror_mode": {
    "name": "ipython",
    "version": 3
   },
   "file_extension": ".py",
   "mimetype": "text/x-python",
   "name": "python",
   "nbconvert_exporter": "python",
   "pygments_lexer": "ipython3",
   "version": "3.9.16"
  }
 },
 "nbformat": 4,
 "nbformat_minor": 5
}
