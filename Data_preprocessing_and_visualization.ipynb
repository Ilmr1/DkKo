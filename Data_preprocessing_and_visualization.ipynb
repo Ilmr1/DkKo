{
 "cells": [
  {
   "cell_type": "markdown",
   "source": [
    "# 2. Data preprocessing and visualization\n",
    "\n",
    "In real life, it is estimated that data scientists spend 80% of their time cleaning and preprocessing data. This is because data is often messy and needs to be cleaned and transformed before it can be used for modeling. This is why data preprocessing is an essential step in the machine learning pipeline.\n",
    "\n",
    "In data science, the GIGO principle (Garbage In, Garbage Out) holds true. This means that if you feed the model dirty, unclean data, you will get dirty, unclean results. This is why data preprocessing is so important.\n",
    "\n",
    "In this section, we will learn the basics of data preprocessing using the Pandas library. We will learn how to clean and transform data, handle missing data, and visualize data using Matplotlib.\n",
    "\n",
    "As an example, we will use the custom Health dataset:\n",
    "\n",
    "> [The Health dataset](../datasets/health.csv)\n",
    "\n",
    "## Examining the dataset\n",
    "\n",
    "Before even loading the data into a data frame, it is advisable to inspect the data visually and make sure that you understand the meaning of each variable in the data set.\n",
    "\n",
    "In this case, the data set has the following variables:\n",
    "\n",
    "| Variable    | Description                                                         |\n",
    "|-------------|---------------------------------------------------------------------|\n",
    "| ID          | Title                                                               |\n",
    "| Weight      | Weight of the individual, in kg, measured by a qualified nurse      |\n",
    "| Smoking     | Self-reported smoking, 0 = no, 1 =yes                               |\n",
    "| Exercise    | Physical activity index, between 0 and 10, based on a questionnaire |\n",
    "| Cholesterol | Blood cholesterol concentration, mmol/l, lab measurement            |\n",
    "| Income      | Self-reported montly income                                         |\n",
    "| Happiness   | Happiness index, between 0 and 100, based on a questionnaire        |\n",
    "| BirthYear   | Year of birth of the individual                                     |\n",
    "| Sex         | (Biological) Sex, 1 = male, 2 = female                              |\n",
    "\n",
    "> Throughout this material, whenever we use the term Sex, it refers to the strictly biological (physical) definition, usually relevant to datasets involving anatomical data. Whenever we use the term Gender, we refer to the socially constructed, potentially nonbinary concept that includes a diverse range of identities, which we acknowledge and respect.\n",
    "\n",
    "\n",
    "## Parsing the dataset\n",
    "\n",
    "We start by loading the Person dataset into a data frame:"
   ],
   "metadata": {
    "collapsed": false
   }
  },
  {
   "metadata": {
    "ExecuteTime": {
     "end_time": "2024-08-13T11:50:36.716352Z",
     "start_time": "2024-08-13T11:50:35.898894Z"
    }
   },
   "cell_type": "code",
   "source": [
    "import numpy as np\n",
    "import pandas as pd\n",
    "\n",
    "df = pd.read_csv('datasets/health/health_v1.csv')\n",
    "df.head()\n"
   ],
   "outputs": [
    {
     "data": {
      "text/plain": [
       "                          ID;Weight;Smoking;Exercise;Cholesterol;Income;Happiness;BirthYear;Sex\n",
       "1;75;0;3;5                                                  8;3230;59;1964;1                   \n",
       "2;70;0;6;5                                                  9;1420;43;1952;1                   \n",
       "3;76;0;6;6;4930;74;1951;1                                                NaN                   \n",
       "4;62;0;8;4                                                  7;2970;58;1959;1                   \n",
       "5;44;0;8;4                                                  3;4780;64;1925;1                   "
      ],
      "text/html": [
       "<div>\n",
       "<style scoped>\n",
       "    .dataframe tbody tr th:only-of-type {\n",
       "        vertical-align: middle;\n",
       "    }\n",
       "\n",
       "    .dataframe tbody tr th {\n",
       "        vertical-align: top;\n",
       "    }\n",
       "\n",
       "    .dataframe thead th {\n",
       "        text-align: right;\n",
       "    }\n",
       "</style>\n",
       "<table border=\"1\" class=\"dataframe\">\n",
       "  <thead>\n",
       "    <tr style=\"text-align: right;\">\n",
       "      <th></th>\n",
       "      <th>ID;Weight;Smoking;Exercise;Cholesterol;Income;Happiness;BirthYear;Sex</th>\n",
       "    </tr>\n",
       "  </thead>\n",
       "  <tbody>\n",
       "    <tr>\n",
       "      <th>1;75;0;3;5</th>\n",
       "      <td>8;3230;59;1964;1</td>\n",
       "    </tr>\n",
       "    <tr>\n",
       "      <th>2;70;0;6;5</th>\n",
       "      <td>9;1420;43;1952;1</td>\n",
       "    </tr>\n",
       "    <tr>\n",
       "      <th>3;76;0;6;6;4930;74;1951;1</th>\n",
       "      <td>NaN</td>\n",
       "    </tr>\n",
       "    <tr>\n",
       "      <th>4;62;0;8;4</th>\n",
       "      <td>7;2970;58;1959;1</td>\n",
       "    </tr>\n",
       "    <tr>\n",
       "      <th>5;44;0;8;4</th>\n",
       "      <td>3;4780;64;1925;1</td>\n",
       "    </tr>\n",
       "  </tbody>\n",
       "</table>\n",
       "</div>"
      ]
     },
     "execution_count": 1,
     "metadata": {},
     "output_type": "execute_result"
    }
   ],
   "execution_count": 1
  },
  {
   "metadata": {},
   "cell_type": "markdown",
   "source": [
    "\n",
    "The initial loading attempt failed, as the file is not in the correct format. These kinds of errors are common in data preprocessing, and we need to handle them before we can proceed.\n",
    "\n",
    "We can spot at least one problems with the dataset: all the values go into the first column. This is because the values are separated by semicolons, not commas. We can fix this by adding the `sep` parameter to the `read_csv` function:\n"
   ]
  },
  {
   "cell_type": "code",
   "source": [
    "df = pd.read_csv('datasets/health/health_v1.csv', sep=';', na_values='NaN')\n",
    "df.head(20)"
   ],
   "metadata": {
    "collapsed": false,
    "ExecuteTime": {
     "end_time": "2024-08-13T11:50:36.730901Z",
     "start_time": "2024-08-13T11:50:36.716352Z"
    }
   },
   "outputs": [
    {
     "data": {
      "text/plain": [
       "    ID  Weight  Smoking Exercise Cholesterol Income  Happiness BirthYear   Sex\n",
       "0    1    75.0      0.0        3         5,8   3230       59.0      1964     1\n",
       "1    2    70.0      0.0        6         5,9   1420       43.0      1952     1\n",
       "2    3    76.0      0.0        6           6   4930       74.0      1951     1\n",
       "3    4    62.0      0.0        8         4,7   2970       58.0      1959     1\n",
       "4    5    44.0      0.0        8         4,3   4780       64.0      1925     1\n",
       "5    6    74.0      0.0        6         5,3   2610       43.0      1953     1\n",
       "6    7    85.0      0.0        8         2,8   3480       81.0      1990     2\n",
       "7    8    66.0      0.0        6         5,3    360       45.0      1952     1\n",
       "8    9    67.0      0.0        7         4,9   3920       82.0      1941     1\n",
       "9   10    82.0      0.0        3         5,1   2510       33.0      1952     1\n",
       "10  11    94.0      0.0        5         7,1   2890       47.0      1971     2\n",
       "11  12    64.0      0.0        6         4,2   4150       75.0      1976     1\n",
       "12  13   100.0      0.0        5         5,9   4160       58.0      1944  Male\n",
       "13  14    66.0      0.0        7         5,1   2170       66.0      1959     2\n",
       "14  15    86.0      0.0        6         6,7   2500       42.0      1964     1\n",
       "15  16    76.0      0.0        5         5,8   2150       49.0      1953     1\n",
       "16  17    72.0      0.0        5         7,2   3630       40.0      1921     1\n",
       "17  18    87.0      0.0        5         7,5   2020       14.0      1939     1\n",
       "18  19    81.0      0.0        5         6,6   2870       32.0      1939     2\n",
       "19  20    64.0      0.0        4         5,7   1900       38.0      1965     1"
      ],
      "text/html": [
       "<div>\n",
       "<style scoped>\n",
       "    .dataframe tbody tr th:only-of-type {\n",
       "        vertical-align: middle;\n",
       "    }\n",
       "\n",
       "    .dataframe tbody tr th {\n",
       "        vertical-align: top;\n",
       "    }\n",
       "\n",
       "    .dataframe thead th {\n",
       "        text-align: right;\n",
       "    }\n",
       "</style>\n",
       "<table border=\"1\" class=\"dataframe\">\n",
       "  <thead>\n",
       "    <tr style=\"text-align: right;\">\n",
       "      <th></th>\n",
       "      <th>ID</th>\n",
       "      <th>Weight</th>\n",
       "      <th>Smoking</th>\n",
       "      <th>Exercise</th>\n",
       "      <th>Cholesterol</th>\n",
       "      <th>Income</th>\n",
       "      <th>Happiness</th>\n",
       "      <th>BirthYear</th>\n",
       "      <th>Sex</th>\n",
       "    </tr>\n",
       "  </thead>\n",
       "  <tbody>\n",
       "    <tr>\n",
       "      <th>0</th>\n",
       "      <td>1</td>\n",
       "      <td>75.0</td>\n",
       "      <td>0.0</td>\n",
       "      <td>3</td>\n",
       "      <td>5,8</td>\n",
       "      <td>3230</td>\n",
       "      <td>59.0</td>\n",
       "      <td>1964</td>\n",
       "      <td>1</td>\n",
       "    </tr>\n",
       "    <tr>\n",
       "      <th>1</th>\n",
       "      <td>2</td>\n",
       "      <td>70.0</td>\n",
       "      <td>0.0</td>\n",
       "      <td>6</td>\n",
       "      <td>5,9</td>\n",
       "      <td>1420</td>\n",
       "      <td>43.0</td>\n",
       "      <td>1952</td>\n",
       "      <td>1</td>\n",
       "    </tr>\n",
       "    <tr>\n",
       "      <th>2</th>\n",
       "      <td>3</td>\n",
       "      <td>76.0</td>\n",
       "      <td>0.0</td>\n",
       "      <td>6</td>\n",
       "      <td>6</td>\n",
       "      <td>4930</td>\n",
       "      <td>74.0</td>\n",
       "      <td>1951</td>\n",
       "      <td>1</td>\n",
       "    </tr>\n",
       "    <tr>\n",
       "      <th>3</th>\n",
       "      <td>4</td>\n",
       "      <td>62.0</td>\n",
       "      <td>0.0</td>\n",
       "      <td>8</td>\n",
       "      <td>4,7</td>\n",
       "      <td>2970</td>\n",
       "      <td>58.0</td>\n",
       "      <td>1959</td>\n",
       "      <td>1</td>\n",
       "    </tr>\n",
       "    <tr>\n",
       "      <th>4</th>\n",
       "      <td>5</td>\n",
       "      <td>44.0</td>\n",
       "      <td>0.0</td>\n",
       "      <td>8</td>\n",
       "      <td>4,3</td>\n",
       "      <td>4780</td>\n",
       "      <td>64.0</td>\n",
       "      <td>1925</td>\n",
       "      <td>1</td>\n",
       "    </tr>\n",
       "    <tr>\n",
       "      <th>5</th>\n",
       "      <td>6</td>\n",
       "      <td>74.0</td>\n",
       "      <td>0.0</td>\n",
       "      <td>6</td>\n",
       "      <td>5,3</td>\n",
       "      <td>2610</td>\n",
       "      <td>43.0</td>\n",
       "      <td>1953</td>\n",
       "      <td>1</td>\n",
       "    </tr>\n",
       "    <tr>\n",
       "      <th>6</th>\n",
       "      <td>7</td>\n",
       "      <td>85.0</td>\n",
       "      <td>0.0</td>\n",
       "      <td>8</td>\n",
       "      <td>2,8</td>\n",
       "      <td>3480</td>\n",
       "      <td>81.0</td>\n",
       "      <td>1990</td>\n",
       "      <td>2</td>\n",
       "    </tr>\n",
       "    <tr>\n",
       "      <th>7</th>\n",
       "      <td>8</td>\n",
       "      <td>66.0</td>\n",
       "      <td>0.0</td>\n",
       "      <td>6</td>\n",
       "      <td>5,3</td>\n",
       "      <td>360</td>\n",
       "      <td>45.0</td>\n",
       "      <td>1952</td>\n",
       "      <td>1</td>\n",
       "    </tr>\n",
       "    <tr>\n",
       "      <th>8</th>\n",
       "      <td>9</td>\n",
       "      <td>67.0</td>\n",
       "      <td>0.0</td>\n",
       "      <td>7</td>\n",
       "      <td>4,9</td>\n",
       "      <td>3920</td>\n",
       "      <td>82.0</td>\n",
       "      <td>1941</td>\n",
       "      <td>1</td>\n",
       "    </tr>\n",
       "    <tr>\n",
       "      <th>9</th>\n",
       "      <td>10</td>\n",
       "      <td>82.0</td>\n",
       "      <td>0.0</td>\n",
       "      <td>3</td>\n",
       "      <td>5,1</td>\n",
       "      <td>2510</td>\n",
       "      <td>33.0</td>\n",
       "      <td>1952</td>\n",
       "      <td>1</td>\n",
       "    </tr>\n",
       "    <tr>\n",
       "      <th>10</th>\n",
       "      <td>11</td>\n",
       "      <td>94.0</td>\n",
       "      <td>0.0</td>\n",
       "      <td>5</td>\n",
       "      <td>7,1</td>\n",
       "      <td>2890</td>\n",
       "      <td>47.0</td>\n",
       "      <td>1971</td>\n",
       "      <td>2</td>\n",
       "    </tr>\n",
       "    <tr>\n",
       "      <th>11</th>\n",
       "      <td>12</td>\n",
       "      <td>64.0</td>\n",
       "      <td>0.0</td>\n",
       "      <td>6</td>\n",
       "      <td>4,2</td>\n",
       "      <td>4150</td>\n",
       "      <td>75.0</td>\n",
       "      <td>1976</td>\n",
       "      <td>1</td>\n",
       "    </tr>\n",
       "    <tr>\n",
       "      <th>12</th>\n",
       "      <td>13</td>\n",
       "      <td>100.0</td>\n",
       "      <td>0.0</td>\n",
       "      <td>5</td>\n",
       "      <td>5,9</td>\n",
       "      <td>4160</td>\n",
       "      <td>58.0</td>\n",
       "      <td>1944</td>\n",
       "      <td>Male</td>\n",
       "    </tr>\n",
       "    <tr>\n",
       "      <th>13</th>\n",
       "      <td>14</td>\n",
       "      <td>66.0</td>\n",
       "      <td>0.0</td>\n",
       "      <td>7</td>\n",
       "      <td>5,1</td>\n",
       "      <td>2170</td>\n",
       "      <td>66.0</td>\n",
       "      <td>1959</td>\n",
       "      <td>2</td>\n",
       "    </tr>\n",
       "    <tr>\n",
       "      <th>14</th>\n",
       "      <td>15</td>\n",
       "      <td>86.0</td>\n",
       "      <td>0.0</td>\n",
       "      <td>6</td>\n",
       "      <td>6,7</td>\n",
       "      <td>2500</td>\n",
       "      <td>42.0</td>\n",
       "      <td>1964</td>\n",
       "      <td>1</td>\n",
       "    </tr>\n",
       "    <tr>\n",
       "      <th>15</th>\n",
       "      <td>16</td>\n",
       "      <td>76.0</td>\n",
       "      <td>0.0</td>\n",
       "      <td>5</td>\n",
       "      <td>5,8</td>\n",
       "      <td>2150</td>\n",
       "      <td>49.0</td>\n",
       "      <td>1953</td>\n",
       "      <td>1</td>\n",
       "    </tr>\n",
       "    <tr>\n",
       "      <th>16</th>\n",
       "      <td>17</td>\n",
       "      <td>72.0</td>\n",
       "      <td>0.0</td>\n",
       "      <td>5</td>\n",
       "      <td>7,2</td>\n",
       "      <td>3630</td>\n",
       "      <td>40.0</td>\n",
       "      <td>1921</td>\n",
       "      <td>1</td>\n",
       "    </tr>\n",
       "    <tr>\n",
       "      <th>17</th>\n",
       "      <td>18</td>\n",
       "      <td>87.0</td>\n",
       "      <td>0.0</td>\n",
       "      <td>5</td>\n",
       "      <td>7,5</td>\n",
       "      <td>2020</td>\n",
       "      <td>14.0</td>\n",
       "      <td>1939</td>\n",
       "      <td>1</td>\n",
       "    </tr>\n",
       "    <tr>\n",
       "      <th>18</th>\n",
       "      <td>19</td>\n",
       "      <td>81.0</td>\n",
       "      <td>0.0</td>\n",
       "      <td>5</td>\n",
       "      <td>6,6</td>\n",
       "      <td>2870</td>\n",
       "      <td>32.0</td>\n",
       "      <td>1939</td>\n",
       "      <td>2</td>\n",
       "    </tr>\n",
       "    <tr>\n",
       "      <th>19</th>\n",
       "      <td>20</td>\n",
       "      <td>64.0</td>\n",
       "      <td>0.0</td>\n",
       "      <td>4</td>\n",
       "      <td>5,7</td>\n",
       "      <td>1900</td>\n",
       "      <td>38.0</td>\n",
       "      <td>1965</td>\n",
       "      <td>1</td>\n",
       "    </tr>\n",
       "  </tbody>\n",
       "</table>\n",
       "</div>"
      ]
     },
     "execution_count": 2,
     "metadata": {},
     "output_type": "execute_result"
    }
   ],
   "execution_count": 2
  },
  {
   "cell_type": "markdown",
   "source": [
    "After this attempt, things look better. We can see that the data is now correctly separated into columns, and the missing values are now represented as `NaN`. However, thev values in the Cholesterol column raise some suspicion. The decimal separator is a comma, which is not the default for pandas. We need one more attempt to load the data correctly:"
   ],
   "metadata": {
    "collapsed": false
   }
  },
  {
   "cell_type": "code",
   "source": [
    "df = pd.read_csv('datasets/health/health_v1.csv', sep=';', na_values='NaN', decimal=',')\n",
    "df.head()"
   ],
   "metadata": {
    "collapsed": false,
    "ExecuteTime": {
     "end_time": "2024-08-13T11:50:36.741840Z",
     "start_time": "2024-08-13T11:50:36.730901Z"
    }
   },
   "outputs": [
    {
     "data": {
      "text/plain": [
       "   ID  Weight  Smoking Exercise  Cholesterol Income  Happiness BirthYear Sex\n",
       "0   1    75.0      0.0        3          5.8   3230       59.0      1964   1\n",
       "1   2    70.0      0.0        6          5.9   1420       43.0      1952   1\n",
       "2   3    76.0      0.0        6          6.0   4930       74.0      1951   1\n",
       "3   4    62.0      0.0        8          4.7   2970       58.0      1959   1\n",
       "4   5    44.0      0.0        8          4.3   4780       64.0      1925   1"
      ],
      "text/html": [
       "<div>\n",
       "<style scoped>\n",
       "    .dataframe tbody tr th:only-of-type {\n",
       "        vertical-align: middle;\n",
       "    }\n",
       "\n",
       "    .dataframe tbody tr th {\n",
       "        vertical-align: top;\n",
       "    }\n",
       "\n",
       "    .dataframe thead th {\n",
       "        text-align: right;\n",
       "    }\n",
       "</style>\n",
       "<table border=\"1\" class=\"dataframe\">\n",
       "  <thead>\n",
       "    <tr style=\"text-align: right;\">\n",
       "      <th></th>\n",
       "      <th>ID</th>\n",
       "      <th>Weight</th>\n",
       "      <th>Smoking</th>\n",
       "      <th>Exercise</th>\n",
       "      <th>Cholesterol</th>\n",
       "      <th>Income</th>\n",
       "      <th>Happiness</th>\n",
       "      <th>BirthYear</th>\n",
       "      <th>Sex</th>\n",
       "    </tr>\n",
       "  </thead>\n",
       "  <tbody>\n",
       "    <tr>\n",
       "      <th>0</th>\n",
       "      <td>1</td>\n",
       "      <td>75.0</td>\n",
       "      <td>0.0</td>\n",
       "      <td>3</td>\n",
       "      <td>5.8</td>\n",
       "      <td>3230</td>\n",
       "      <td>59.0</td>\n",
       "      <td>1964</td>\n",
       "      <td>1</td>\n",
       "    </tr>\n",
       "    <tr>\n",
       "      <th>1</th>\n",
       "      <td>2</td>\n",
       "      <td>70.0</td>\n",
       "      <td>0.0</td>\n",
       "      <td>6</td>\n",
       "      <td>5.9</td>\n",
       "      <td>1420</td>\n",
       "      <td>43.0</td>\n",
       "      <td>1952</td>\n",
       "      <td>1</td>\n",
       "    </tr>\n",
       "    <tr>\n",
       "      <th>2</th>\n",
       "      <td>3</td>\n",
       "      <td>76.0</td>\n",
       "      <td>0.0</td>\n",
       "      <td>6</td>\n",
       "      <td>6.0</td>\n",
       "      <td>4930</td>\n",
       "      <td>74.0</td>\n",
       "      <td>1951</td>\n",
       "      <td>1</td>\n",
       "    </tr>\n",
       "    <tr>\n",
       "      <th>3</th>\n",
       "      <td>4</td>\n",
       "      <td>62.0</td>\n",
       "      <td>0.0</td>\n",
       "      <td>8</td>\n",
       "      <td>4.7</td>\n",
       "      <td>2970</td>\n",
       "      <td>58.0</td>\n",
       "      <td>1959</td>\n",
       "      <td>1</td>\n",
       "    </tr>\n",
       "    <tr>\n",
       "      <th>4</th>\n",
       "      <td>5</td>\n",
       "      <td>44.0</td>\n",
       "      <td>0.0</td>\n",
       "      <td>8</td>\n",
       "      <td>4.3</td>\n",
       "      <td>4780</td>\n",
       "      <td>64.0</td>\n",
       "      <td>1925</td>\n",
       "      <td>1</td>\n",
       "    </tr>\n",
       "  </tbody>\n",
       "</table>\n",
       "</div>"
      ]
     },
     "execution_count": 3,
     "metadata": {},
     "output_type": "execute_result"
    }
   ],
   "execution_count": 3
  },
  {
   "cell_type": "markdown",
   "source": [
    "Now things look superficially correct, but there is still some suspicion about the data types. In the original data set, both the Weight and Exercise fields seemed to have integer values, but now the former seems to have been transformed into a float. We can check the data types of the columns with the `dtypes` attribute:"
   ],
   "metadata": {
    "collapsed": false
   }
  },
  {
   "cell_type": "code",
   "source": "df.dtypes",
   "metadata": {
    "collapsed": false,
    "ExecuteTime": {
     "end_time": "2024-08-13T11:50:36.749223Z",
     "start_time": "2024-08-13T11:50:36.742967Z"
    }
   },
   "outputs": [
    {
     "data": {
      "text/plain": [
       "ID               int64\n",
       "Weight         float64\n",
       "Smoking        float64\n",
       "Exercise        object\n",
       "Cholesterol    float64\n",
       "Income          object\n",
       "Happiness      float64\n",
       "BirthYear       object\n",
       "Sex             object\n",
       "dtype: object"
      ]
     },
     "execution_count": 4,
     "metadata": {},
     "output_type": "execute_result"
    }
   ],
   "execution_count": 4
  },
  {
   "cell_type": "markdown",
   "source": [
    "As we check the types, we see that the Exercise, Income, BirthYear, and Sex fields are interpreted as objects (strings). Technically, we can convert the three first fields into integers and the last one into a category. That is done with the `astype` method:"
   ],
   "metadata": {
    "collapsed": false
   }
  },
  {
   "cell_type": "code",
   "source": [
    "df['Exercise'] = df['Exercise'].astype(int)\n",
    "df['Income'] = df['Income'].astype(int)\n",
    "df['BirthYear'] = df['BirthYear'].astype(int)\n",
    "df['Sex'] = pd.Categorical(df['Sex'])"
   ],
   "metadata": {
    "collapsed": false,
    "ExecuteTime": {
     "end_time": "2024-08-13T11:50:37.348805Z",
     "start_time": "2024-08-13T11:50:36.749223Z"
    }
   },
   "outputs": [
    {
     "ename": "ValueError",
     "evalue": "invalid literal for int() with base 10: ' '",
     "output_type": "error",
     "traceback": [
      "\u001B[1;31m---------------------------------------------------------------------------\u001B[0m",
      "\u001B[1;31mValueError\u001B[0m                                Traceback (most recent call last)",
      "Cell \u001B[1;32mIn[5], line 1\u001B[0m\n\u001B[1;32m----> 1\u001B[0m df[\u001B[38;5;124m'\u001B[39m\u001B[38;5;124mExercise\u001B[39m\u001B[38;5;124m'\u001B[39m] \u001B[38;5;241m=\u001B[39m \u001B[43mdf\u001B[49m\u001B[43m[\u001B[49m\u001B[38;5;124;43m'\u001B[39;49m\u001B[38;5;124;43mExercise\u001B[39;49m\u001B[38;5;124;43m'\u001B[39;49m\u001B[43m]\u001B[49m\u001B[38;5;241;43m.\u001B[39;49m\u001B[43mastype\u001B[49m\u001B[43m(\u001B[49m\u001B[38;5;28;43mint\u001B[39;49m\u001B[43m)\u001B[49m\n\u001B[0;32m      2\u001B[0m df[\u001B[38;5;124m'\u001B[39m\u001B[38;5;124mIncome\u001B[39m\u001B[38;5;124m'\u001B[39m] \u001B[38;5;241m=\u001B[39m df[\u001B[38;5;124m'\u001B[39m\u001B[38;5;124mIncome\u001B[39m\u001B[38;5;124m'\u001B[39m]\u001B[38;5;241m.\u001B[39mastype(\u001B[38;5;28mint\u001B[39m)\n\u001B[0;32m      3\u001B[0m df[\u001B[38;5;124m'\u001B[39m\u001B[38;5;124mBirthYear\u001B[39m\u001B[38;5;124m'\u001B[39m] \u001B[38;5;241m=\u001B[39m df[\u001B[38;5;124m'\u001B[39m\u001B[38;5;124mBirthYear\u001B[39m\u001B[38;5;124m'\u001B[39m]\u001B[38;5;241m.\u001B[39mastype(\u001B[38;5;28mint\u001B[39m)\n",
      "File \u001B[1;32m~\\AppData\\Local\\Programs\\Python\\Python312\\Lib\\site-packages\\pandas\\core\\generic.py:6643\u001B[0m, in \u001B[0;36mNDFrame.astype\u001B[1;34m(self, dtype, copy, errors)\u001B[0m\n\u001B[0;32m   6637\u001B[0m     results \u001B[38;5;241m=\u001B[39m [\n\u001B[0;32m   6638\u001B[0m         ser\u001B[38;5;241m.\u001B[39mastype(dtype, copy\u001B[38;5;241m=\u001B[39mcopy, errors\u001B[38;5;241m=\u001B[39merrors) \u001B[38;5;28;01mfor\u001B[39;00m _, ser \u001B[38;5;129;01min\u001B[39;00m \u001B[38;5;28mself\u001B[39m\u001B[38;5;241m.\u001B[39mitems()\n\u001B[0;32m   6639\u001B[0m     ]\n\u001B[0;32m   6641\u001B[0m \u001B[38;5;28;01melse\u001B[39;00m:\n\u001B[0;32m   6642\u001B[0m     \u001B[38;5;66;03m# else, only a single dtype is given\u001B[39;00m\n\u001B[1;32m-> 6643\u001B[0m     new_data \u001B[38;5;241m=\u001B[39m \u001B[38;5;28;43mself\u001B[39;49m\u001B[38;5;241;43m.\u001B[39;49m\u001B[43m_mgr\u001B[49m\u001B[38;5;241;43m.\u001B[39;49m\u001B[43mastype\u001B[49m\u001B[43m(\u001B[49m\u001B[43mdtype\u001B[49m\u001B[38;5;241;43m=\u001B[39;49m\u001B[43mdtype\u001B[49m\u001B[43m,\u001B[49m\u001B[43m \u001B[49m\u001B[43mcopy\u001B[49m\u001B[38;5;241;43m=\u001B[39;49m\u001B[43mcopy\u001B[49m\u001B[43m,\u001B[49m\u001B[43m \u001B[49m\u001B[43merrors\u001B[49m\u001B[38;5;241;43m=\u001B[39;49m\u001B[43merrors\u001B[49m\u001B[43m)\u001B[49m\n\u001B[0;32m   6644\u001B[0m     res \u001B[38;5;241m=\u001B[39m \u001B[38;5;28mself\u001B[39m\u001B[38;5;241m.\u001B[39m_constructor_from_mgr(new_data, axes\u001B[38;5;241m=\u001B[39mnew_data\u001B[38;5;241m.\u001B[39maxes)\n\u001B[0;32m   6645\u001B[0m     \u001B[38;5;28;01mreturn\u001B[39;00m res\u001B[38;5;241m.\u001B[39m__finalize__(\u001B[38;5;28mself\u001B[39m, method\u001B[38;5;241m=\u001B[39m\u001B[38;5;124m\"\u001B[39m\u001B[38;5;124mastype\u001B[39m\u001B[38;5;124m\"\u001B[39m)\n",
      "File \u001B[1;32m~\\AppData\\Local\\Programs\\Python\\Python312\\Lib\\site-packages\\pandas\\core\\internals\\managers.py:430\u001B[0m, in \u001B[0;36mBaseBlockManager.astype\u001B[1;34m(self, dtype, copy, errors)\u001B[0m\n\u001B[0;32m    427\u001B[0m \u001B[38;5;28;01melif\u001B[39;00m using_copy_on_write():\n\u001B[0;32m    428\u001B[0m     copy \u001B[38;5;241m=\u001B[39m \u001B[38;5;28;01mFalse\u001B[39;00m\n\u001B[1;32m--> 430\u001B[0m \u001B[38;5;28;01mreturn\u001B[39;00m \u001B[38;5;28;43mself\u001B[39;49m\u001B[38;5;241;43m.\u001B[39;49m\u001B[43mapply\u001B[49m\u001B[43m(\u001B[49m\n\u001B[0;32m    431\u001B[0m \u001B[43m    \u001B[49m\u001B[38;5;124;43m\"\u001B[39;49m\u001B[38;5;124;43mastype\u001B[39;49m\u001B[38;5;124;43m\"\u001B[39;49m\u001B[43m,\u001B[49m\n\u001B[0;32m    432\u001B[0m \u001B[43m    \u001B[49m\u001B[43mdtype\u001B[49m\u001B[38;5;241;43m=\u001B[39;49m\u001B[43mdtype\u001B[49m\u001B[43m,\u001B[49m\n\u001B[0;32m    433\u001B[0m \u001B[43m    \u001B[49m\u001B[43mcopy\u001B[49m\u001B[38;5;241;43m=\u001B[39;49m\u001B[43mcopy\u001B[49m\u001B[43m,\u001B[49m\n\u001B[0;32m    434\u001B[0m \u001B[43m    \u001B[49m\u001B[43merrors\u001B[49m\u001B[38;5;241;43m=\u001B[39;49m\u001B[43merrors\u001B[49m\u001B[43m,\u001B[49m\n\u001B[0;32m    435\u001B[0m \u001B[43m    \u001B[49m\u001B[43musing_cow\u001B[49m\u001B[38;5;241;43m=\u001B[39;49m\u001B[43musing_copy_on_write\u001B[49m\u001B[43m(\u001B[49m\u001B[43m)\u001B[49m\u001B[43m,\u001B[49m\n\u001B[0;32m    436\u001B[0m \u001B[43m\u001B[49m\u001B[43m)\u001B[49m\n",
      "File \u001B[1;32m~\\AppData\\Local\\Programs\\Python\\Python312\\Lib\\site-packages\\pandas\\core\\internals\\managers.py:363\u001B[0m, in \u001B[0;36mBaseBlockManager.apply\u001B[1;34m(self, f, align_keys, **kwargs)\u001B[0m\n\u001B[0;32m    361\u001B[0m         applied \u001B[38;5;241m=\u001B[39m b\u001B[38;5;241m.\u001B[39mapply(f, \u001B[38;5;241m*\u001B[39m\u001B[38;5;241m*\u001B[39mkwargs)\n\u001B[0;32m    362\u001B[0m     \u001B[38;5;28;01melse\u001B[39;00m:\n\u001B[1;32m--> 363\u001B[0m         applied \u001B[38;5;241m=\u001B[39m \u001B[38;5;28;43mgetattr\u001B[39;49m\u001B[43m(\u001B[49m\u001B[43mb\u001B[49m\u001B[43m,\u001B[49m\u001B[43m \u001B[49m\u001B[43mf\u001B[49m\u001B[43m)\u001B[49m\u001B[43m(\u001B[49m\u001B[38;5;241;43m*\u001B[39;49m\u001B[38;5;241;43m*\u001B[39;49m\u001B[43mkwargs\u001B[49m\u001B[43m)\u001B[49m\n\u001B[0;32m    364\u001B[0m     result_blocks \u001B[38;5;241m=\u001B[39m extend_blocks(applied, result_blocks)\n\u001B[0;32m    366\u001B[0m out \u001B[38;5;241m=\u001B[39m \u001B[38;5;28mtype\u001B[39m(\u001B[38;5;28mself\u001B[39m)\u001B[38;5;241m.\u001B[39mfrom_blocks(result_blocks, \u001B[38;5;28mself\u001B[39m\u001B[38;5;241m.\u001B[39maxes)\n",
      "File \u001B[1;32m~\\AppData\\Local\\Programs\\Python\\Python312\\Lib\\site-packages\\pandas\\core\\internals\\blocks.py:758\u001B[0m, in \u001B[0;36mBlock.astype\u001B[1;34m(self, dtype, copy, errors, using_cow, squeeze)\u001B[0m\n\u001B[0;32m    755\u001B[0m         \u001B[38;5;28;01mraise\u001B[39;00m \u001B[38;5;167;01mValueError\u001B[39;00m(\u001B[38;5;124m\"\u001B[39m\u001B[38;5;124mCan not squeeze with more than one column.\u001B[39m\u001B[38;5;124m\"\u001B[39m)\n\u001B[0;32m    756\u001B[0m     values \u001B[38;5;241m=\u001B[39m values[\u001B[38;5;241m0\u001B[39m, :]  \u001B[38;5;66;03m# type: ignore[call-overload]\u001B[39;00m\n\u001B[1;32m--> 758\u001B[0m new_values \u001B[38;5;241m=\u001B[39m \u001B[43mastype_array_safe\u001B[49m\u001B[43m(\u001B[49m\u001B[43mvalues\u001B[49m\u001B[43m,\u001B[49m\u001B[43m \u001B[49m\u001B[43mdtype\u001B[49m\u001B[43m,\u001B[49m\u001B[43m \u001B[49m\u001B[43mcopy\u001B[49m\u001B[38;5;241;43m=\u001B[39;49m\u001B[43mcopy\u001B[49m\u001B[43m,\u001B[49m\u001B[43m \u001B[49m\u001B[43merrors\u001B[49m\u001B[38;5;241;43m=\u001B[39;49m\u001B[43merrors\u001B[49m\u001B[43m)\u001B[49m\n\u001B[0;32m    760\u001B[0m new_values \u001B[38;5;241m=\u001B[39m maybe_coerce_values(new_values)\n\u001B[0;32m    762\u001B[0m refs \u001B[38;5;241m=\u001B[39m \u001B[38;5;28;01mNone\u001B[39;00m\n",
      "File \u001B[1;32m~\\AppData\\Local\\Programs\\Python\\Python312\\Lib\\site-packages\\pandas\\core\\dtypes\\astype.py:237\u001B[0m, in \u001B[0;36mastype_array_safe\u001B[1;34m(values, dtype, copy, errors)\u001B[0m\n\u001B[0;32m    234\u001B[0m     dtype \u001B[38;5;241m=\u001B[39m dtype\u001B[38;5;241m.\u001B[39mnumpy_dtype\n\u001B[0;32m    236\u001B[0m \u001B[38;5;28;01mtry\u001B[39;00m:\n\u001B[1;32m--> 237\u001B[0m     new_values \u001B[38;5;241m=\u001B[39m \u001B[43mastype_array\u001B[49m\u001B[43m(\u001B[49m\u001B[43mvalues\u001B[49m\u001B[43m,\u001B[49m\u001B[43m \u001B[49m\u001B[43mdtype\u001B[49m\u001B[43m,\u001B[49m\u001B[43m \u001B[49m\u001B[43mcopy\u001B[49m\u001B[38;5;241;43m=\u001B[39;49m\u001B[43mcopy\u001B[49m\u001B[43m)\u001B[49m\n\u001B[0;32m    238\u001B[0m \u001B[38;5;28;01mexcept\u001B[39;00m (\u001B[38;5;167;01mValueError\u001B[39;00m, \u001B[38;5;167;01mTypeError\u001B[39;00m):\n\u001B[0;32m    239\u001B[0m     \u001B[38;5;66;03m# e.g. _astype_nansafe can fail on object-dtype of strings\u001B[39;00m\n\u001B[0;32m    240\u001B[0m     \u001B[38;5;66;03m#  trying to convert to float\u001B[39;00m\n\u001B[0;32m    241\u001B[0m     \u001B[38;5;28;01mif\u001B[39;00m errors \u001B[38;5;241m==\u001B[39m \u001B[38;5;124m\"\u001B[39m\u001B[38;5;124mignore\u001B[39m\u001B[38;5;124m\"\u001B[39m:\n",
      "File \u001B[1;32m~\\AppData\\Local\\Programs\\Python\\Python312\\Lib\\site-packages\\pandas\\core\\dtypes\\astype.py:182\u001B[0m, in \u001B[0;36mastype_array\u001B[1;34m(values, dtype, copy)\u001B[0m\n\u001B[0;32m    179\u001B[0m     values \u001B[38;5;241m=\u001B[39m values\u001B[38;5;241m.\u001B[39mastype(dtype, copy\u001B[38;5;241m=\u001B[39mcopy)\n\u001B[0;32m    181\u001B[0m \u001B[38;5;28;01melse\u001B[39;00m:\n\u001B[1;32m--> 182\u001B[0m     values \u001B[38;5;241m=\u001B[39m \u001B[43m_astype_nansafe\u001B[49m\u001B[43m(\u001B[49m\u001B[43mvalues\u001B[49m\u001B[43m,\u001B[49m\u001B[43m \u001B[49m\u001B[43mdtype\u001B[49m\u001B[43m,\u001B[49m\u001B[43m \u001B[49m\u001B[43mcopy\u001B[49m\u001B[38;5;241;43m=\u001B[39;49m\u001B[43mcopy\u001B[49m\u001B[43m)\u001B[49m\n\u001B[0;32m    184\u001B[0m \u001B[38;5;66;03m# in pandas we don't store numpy str dtypes, so convert to object\u001B[39;00m\n\u001B[0;32m    185\u001B[0m \u001B[38;5;28;01mif\u001B[39;00m \u001B[38;5;28misinstance\u001B[39m(dtype, np\u001B[38;5;241m.\u001B[39mdtype) \u001B[38;5;129;01mand\u001B[39;00m \u001B[38;5;28missubclass\u001B[39m(values\u001B[38;5;241m.\u001B[39mdtype\u001B[38;5;241m.\u001B[39mtype, \u001B[38;5;28mstr\u001B[39m):\n",
      "File \u001B[1;32m~\\AppData\\Local\\Programs\\Python\\Python312\\Lib\\site-packages\\pandas\\core\\dtypes\\astype.py:133\u001B[0m, in \u001B[0;36m_astype_nansafe\u001B[1;34m(arr, dtype, copy, skipna)\u001B[0m\n\u001B[0;32m    129\u001B[0m     \u001B[38;5;28;01mraise\u001B[39;00m \u001B[38;5;167;01mValueError\u001B[39;00m(msg)\n\u001B[0;32m    131\u001B[0m \u001B[38;5;28;01mif\u001B[39;00m copy \u001B[38;5;129;01mor\u001B[39;00m arr\u001B[38;5;241m.\u001B[39mdtype \u001B[38;5;241m==\u001B[39m \u001B[38;5;28mobject\u001B[39m \u001B[38;5;129;01mor\u001B[39;00m dtype \u001B[38;5;241m==\u001B[39m \u001B[38;5;28mobject\u001B[39m:\n\u001B[0;32m    132\u001B[0m     \u001B[38;5;66;03m# Explicit copy, or required since NumPy can't view from / to object.\u001B[39;00m\n\u001B[1;32m--> 133\u001B[0m     \u001B[38;5;28;01mreturn\u001B[39;00m \u001B[43marr\u001B[49m\u001B[38;5;241;43m.\u001B[39;49m\u001B[43mastype\u001B[49m\u001B[43m(\u001B[49m\u001B[43mdtype\u001B[49m\u001B[43m,\u001B[49m\u001B[43m \u001B[49m\u001B[43mcopy\u001B[49m\u001B[38;5;241;43m=\u001B[39;49m\u001B[38;5;28;43;01mTrue\u001B[39;49;00m\u001B[43m)\u001B[49m\n\u001B[0;32m    135\u001B[0m \u001B[38;5;28;01mreturn\u001B[39;00m arr\u001B[38;5;241m.\u001B[39mastype(dtype, copy\u001B[38;5;241m=\u001B[39mcopy)\n",
      "\u001B[1;31mValueError\u001B[0m: invalid literal for int() with base 10: ' '"
     ]
    }
   ],
   "execution_count": 5
  },
  {
   "cell_type": "markdown",
   "source": [
    "The type conversion fails on the first line. This is quite expected, bearing in mind that Pandas did not guess the type correctly in the first place.\n",
    "\n",
    "At this point, we need to dive into the original data set and see what is causing the problem. We can use the `unique` method to check the unique values in the columns. Let's start with the first variable, Exercise, as it is expected to have just a few unique values:"
   ],
   "metadata": {
    "collapsed": false
   }
  },
  {
   "cell_type": "code",
   "source": "df.Exercise.unique()",
   "metadata": {
    "collapsed": false,
    "ExecuteTime": {
     "end_time": "2024-08-13T11:51:14.261693Z",
     "start_time": "2024-08-13T11:51:14.247801Z"
    }
   },
   "outputs": [
    {
     "data": {
      "text/plain": [
       "array(['3', '6', '8', '7', '5', '4', '2', '9', '10', '0', '1', ' '],\n",
       "      dtype=object)"
      ]
     },
     "execution_count": 6,
     "metadata": {},
     "output_type": "execute_result"
    }
   ],
   "execution_count": 6
  },
  {
   "cell_type": "markdown",
   "source": [
    "The output reveals that there is an extra value, a space, in the Exercise column.\n",
    "\n",
    "At this time, we revert back to the original dataset and find clues about the problem. A simple search for two semicolons in a row reveals that there are some missing values in the dataset which are simply encoded by omitting the value. We can fix this by adding the `na_values` parameter to the `read_csv` function. Let's start again with reading the data into a data frame:"
   ],
   "metadata": {
    "collapsed": false
   }
  },
  {
   "cell_type": "code",
   "source": [
    "df = pd.read_csv('datasets/health/health_v1.csv', sep=';', na_values=['', ' '], decimal=',')\n",
    "df.Exercise.unique()"
   ],
   "metadata": {
    "collapsed": false,
    "ExecuteTime": {
     "end_time": "2024-08-13T11:51:19.671808Z",
     "start_time": "2024-08-13T11:51:19.655085Z"
    }
   },
   "outputs": [
    {
     "data": {
      "text/plain": [
       "array([ 3.,  6.,  8.,  7.,  5.,  4.,  2.,  9., 10.,  0.,  1., nan])"
      ]
     },
     "execution_count": 7,
     "metadata": {},
     "output_type": "execute_result"
    }
   ],
   "execution_count": 7
  },
  {
   "cell_type": "markdown",
   "source": [
    "Now the problem has been solved, at least for the Exercise column.\n",
    "\n",
    "Let's check the data types again:"
   ],
   "metadata": {
    "collapsed": false
   }
  },
  {
   "cell_type": "code",
   "source": [
    "df.dtypes"
   ],
   "metadata": {
    "collapsed": false,
    "ExecuteTime": {
     "end_time": "2024-08-13T11:51:22.918715Z",
     "start_time": "2024-08-13T11:51:22.905110Z"
    }
   },
   "outputs": [
    {
     "data": {
      "text/plain": [
       "ID               int64\n",
       "Weight         float64\n",
       "Smoking        float64\n",
       "Exercise       float64\n",
       "Cholesterol    float64\n",
       "Income         float64\n",
       "Happiness      float64\n",
       "BirthYear      float64\n",
       "Sex             object\n",
       "dtype: object"
      ]
     },
     "execution_count": 8,
     "metadata": {},
     "output_type": "execute_result"
    }
   ],
   "execution_count": 8
  },
  {
   "cell_type": "markdown",
   "source": [
    "The Sex variable is still an object. We convert it to a category:"
   ],
   "metadata": {
    "collapsed": false
   }
  },
  {
   "cell_type": "code",
   "source": [
    "df['Sex'] = pd.Categorical(df['Sex'])"
   ],
   "metadata": {
    "collapsed": false,
    "ExecuteTime": {
     "end_time": "2024-08-13T11:51:51.471214Z",
     "start_time": "2024-08-13T11:51:51.455078Z"
    }
   },
   "outputs": [],
   "execution_count": 9
  },
  {
   "cell_type": "markdown",
   "source": [
    "... and check the unique values once more:"
   ],
   "metadata": {
    "collapsed": false
   }
  },
  {
   "cell_type": "code",
   "source": [
    "df.Sex.unique()"
   ],
   "metadata": {
    "collapsed": false,
    "ExecuteTime": {
     "end_time": "2024-08-13T11:51:56.181309Z",
     "start_time": "2024-08-13T11:51:56.163580Z"
    }
   },
   "outputs": [
    {
     "data": {
      "text/plain": [
       "['1', '2', 'Male', 'Female']\n",
       "Categories (4, object): ['1', '2', 'Female', 'Male']"
      ]
     },
     "execution_count": 10,
     "metadata": {},
     "output_type": "execute_result"
    }
   ],
   "execution_count": 10
  },
  {
   "cell_type": "markdown",
   "source": [
    "It seems that there are four different values: 1, 2, Male and Female. The Sex column has initially been encoded so that `1` represents male, and `2` represents female. The written values `Male` and `Female` are probably errors in the data set. We could replace them with missing values, but, as we know the obvious correct replacements, we can simply convert them into integers.\n",
    "\n",
    "For this, we need to tinker with the `replace` method. We first temporarily convert the variable to a string, then use the `replace` method, and finally convert the variable back to a category:"
   ],
   "metadata": {
    "collapsed": false
   }
  },
  {
   "cell_type": "code",
   "source": [
    "df['Sex'] = df['Sex'].astype(str)\n",
    "df['Sex'] = df['Sex'].replace({'Male': '1', 'Female': '2'})\n",
    "df['Sex'] = df['Sex'].astype('category')"
   ],
   "metadata": {
    "collapsed": false,
    "ExecuteTime": {
     "end_time": "2024-08-13T11:52:02.021491Z",
     "start_time": "2024-08-13T11:52:02.004081Z"
    }
   },
   "outputs": [],
   "execution_count": 11
  },
  {
   "cell_type": "markdown",
   "source": [
    "Now that the data seems to have been parsed and interpreted successfully,\n",
    "we can print the basic statistics:"
   ],
   "metadata": {
    "collapsed": false
   }
  },
  {
   "cell_type": "code",
   "source": [
    "df.describe(include='all')"
   ],
   "metadata": {
    "collapsed": false,
    "ExecuteTime": {
     "end_time": "2024-08-13T11:52:05.602357Z",
     "start_time": "2024-08-13T11:52:05.571981Z"
    }
   },
   "outputs": [
    {
     "data": {
      "text/plain": [
       "                 ID      Weight     Smoking    Exercise  Cholesterol  \\\n",
       "count   1000.000000  999.000000  999.000000  998.000000   1000.00000   \n",
       "unique          NaN         NaN         NaN         NaN          NaN   \n",
       "top             NaN         NaN         NaN         NaN          NaN   \n",
       "freq            NaN         NaN         NaN         NaN          NaN   \n",
       "mean     500.500000   79.717718    0.232232    5.092184      5.72750   \n",
       "std      288.819436   25.252719    0.422468    2.030736      1.39649   \n",
       "min        1.000000    8.000000    0.000000    0.000000     -7.50000   \n",
       "25%      250.750000   70.000000    0.000000    4.000000      4.87500   \n",
       "50%      500.500000   80.000000    0.000000    5.000000      5.80000   \n",
       "75%      750.250000   88.000000    0.000000    6.000000      6.60000   \n",
       "max     1000.000000  740.000000    1.000000   10.000000      9.50000   \n",
       "\n",
       "             Income   Happiness    BirthYear   Sex  \n",
       "count    997.000000  999.000000   999.000000  1000  \n",
       "unique          NaN         NaN          NaN     2  \n",
       "top             NaN         NaN          NaN     1  \n",
       "freq            NaN         NaN          NaN   523  \n",
       "mean    3069.829488   51.171171  1954.111111   NaN  \n",
       "std     1264.497563   17.511569    21.443328   NaN  \n",
       "min        0.000000    0.000000  1879.000000   NaN  \n",
       "25%     2220.000000   39.000000  1939.000000   NaN  \n",
       "50%     3140.000000   50.000000  1954.000000   NaN  \n",
       "75%     3890.000000   63.000000  1969.000000   NaN  \n",
       "max     7690.000000  100.000000  2020.000000   NaN  "
      ],
      "text/html": [
       "<div>\n",
       "<style scoped>\n",
       "    .dataframe tbody tr th:only-of-type {\n",
       "        vertical-align: middle;\n",
       "    }\n",
       "\n",
       "    .dataframe tbody tr th {\n",
       "        vertical-align: top;\n",
       "    }\n",
       "\n",
       "    .dataframe thead th {\n",
       "        text-align: right;\n",
       "    }\n",
       "</style>\n",
       "<table border=\"1\" class=\"dataframe\">\n",
       "  <thead>\n",
       "    <tr style=\"text-align: right;\">\n",
       "      <th></th>\n",
       "      <th>ID</th>\n",
       "      <th>Weight</th>\n",
       "      <th>Smoking</th>\n",
       "      <th>Exercise</th>\n",
       "      <th>Cholesterol</th>\n",
       "      <th>Income</th>\n",
       "      <th>Happiness</th>\n",
       "      <th>BirthYear</th>\n",
       "      <th>Sex</th>\n",
       "    </tr>\n",
       "  </thead>\n",
       "  <tbody>\n",
       "    <tr>\n",
       "      <th>count</th>\n",
       "      <td>1000.000000</td>\n",
       "      <td>999.000000</td>\n",
       "      <td>999.000000</td>\n",
       "      <td>998.000000</td>\n",
       "      <td>1000.00000</td>\n",
       "      <td>997.000000</td>\n",
       "      <td>999.000000</td>\n",
       "      <td>999.000000</td>\n",
       "      <td>1000</td>\n",
       "    </tr>\n",
       "    <tr>\n",
       "      <th>unique</th>\n",
       "      <td>NaN</td>\n",
       "      <td>NaN</td>\n",
       "      <td>NaN</td>\n",
       "      <td>NaN</td>\n",
       "      <td>NaN</td>\n",
       "      <td>NaN</td>\n",
       "      <td>NaN</td>\n",
       "      <td>NaN</td>\n",
       "      <td>2</td>\n",
       "    </tr>\n",
       "    <tr>\n",
       "      <th>top</th>\n",
       "      <td>NaN</td>\n",
       "      <td>NaN</td>\n",
       "      <td>NaN</td>\n",
       "      <td>NaN</td>\n",
       "      <td>NaN</td>\n",
       "      <td>NaN</td>\n",
       "      <td>NaN</td>\n",
       "      <td>NaN</td>\n",
       "      <td>1</td>\n",
       "    </tr>\n",
       "    <tr>\n",
       "      <th>freq</th>\n",
       "      <td>NaN</td>\n",
       "      <td>NaN</td>\n",
       "      <td>NaN</td>\n",
       "      <td>NaN</td>\n",
       "      <td>NaN</td>\n",
       "      <td>NaN</td>\n",
       "      <td>NaN</td>\n",
       "      <td>NaN</td>\n",
       "      <td>523</td>\n",
       "    </tr>\n",
       "    <tr>\n",
       "      <th>mean</th>\n",
       "      <td>500.500000</td>\n",
       "      <td>79.717718</td>\n",
       "      <td>0.232232</td>\n",
       "      <td>5.092184</td>\n",
       "      <td>5.72750</td>\n",
       "      <td>3069.829488</td>\n",
       "      <td>51.171171</td>\n",
       "      <td>1954.111111</td>\n",
       "      <td>NaN</td>\n",
       "    </tr>\n",
       "    <tr>\n",
       "      <th>std</th>\n",
       "      <td>288.819436</td>\n",
       "      <td>25.252719</td>\n",
       "      <td>0.422468</td>\n",
       "      <td>2.030736</td>\n",
       "      <td>1.39649</td>\n",
       "      <td>1264.497563</td>\n",
       "      <td>17.511569</td>\n",
       "      <td>21.443328</td>\n",
       "      <td>NaN</td>\n",
       "    </tr>\n",
       "    <tr>\n",
       "      <th>min</th>\n",
       "      <td>1.000000</td>\n",
       "      <td>8.000000</td>\n",
       "      <td>0.000000</td>\n",
       "      <td>0.000000</td>\n",
       "      <td>-7.50000</td>\n",
       "      <td>0.000000</td>\n",
       "      <td>0.000000</td>\n",
       "      <td>1879.000000</td>\n",
       "      <td>NaN</td>\n",
       "    </tr>\n",
       "    <tr>\n",
       "      <th>25%</th>\n",
       "      <td>250.750000</td>\n",
       "      <td>70.000000</td>\n",
       "      <td>0.000000</td>\n",
       "      <td>4.000000</td>\n",
       "      <td>4.87500</td>\n",
       "      <td>2220.000000</td>\n",
       "      <td>39.000000</td>\n",
       "      <td>1939.000000</td>\n",
       "      <td>NaN</td>\n",
       "    </tr>\n",
       "    <tr>\n",
       "      <th>50%</th>\n",
       "      <td>500.500000</td>\n",
       "      <td>80.000000</td>\n",
       "      <td>0.000000</td>\n",
       "      <td>5.000000</td>\n",
       "      <td>5.80000</td>\n",
       "      <td>3140.000000</td>\n",
       "      <td>50.000000</td>\n",
       "      <td>1954.000000</td>\n",
       "      <td>NaN</td>\n",
       "    </tr>\n",
       "    <tr>\n",
       "      <th>75%</th>\n",
       "      <td>750.250000</td>\n",
       "      <td>88.000000</td>\n",
       "      <td>0.000000</td>\n",
       "      <td>6.000000</td>\n",
       "      <td>6.60000</td>\n",
       "      <td>3890.000000</td>\n",
       "      <td>63.000000</td>\n",
       "      <td>1969.000000</td>\n",
       "      <td>NaN</td>\n",
       "    </tr>\n",
       "    <tr>\n",
       "      <th>max</th>\n",
       "      <td>1000.000000</td>\n",
       "      <td>740.000000</td>\n",
       "      <td>1.000000</td>\n",
       "      <td>10.000000</td>\n",
       "      <td>9.50000</td>\n",
       "      <td>7690.000000</td>\n",
       "      <td>100.000000</td>\n",
       "      <td>2020.000000</td>\n",
       "      <td>NaN</td>\n",
       "    </tr>\n",
       "  </tbody>\n",
       "</table>\n",
       "</div>"
      ]
     },
     "execution_count": 12,
     "metadata": {},
     "output_type": "execute_result"
    }
   ],
   "execution_count": 12
  },
  {
   "metadata": {},
   "cell_type": "markdown",
   "source": [
    "At this point, the data seems to be in a good shape. We have successfully loaded the data into a data frame, and we have fixed the data types of the columns. The next step is to clean the data by handling the missing values as well as looking for any anomalies in the data.\n",
    "\n",
    "## Treating missing values and outliers\n",
    "\n",
    "In machine learning, missing values may have a significant impact on the performance of the model. There are several ways to handle missing values, including:\n",
    "- Just ignoring them. In many cases, this is the easiest and most efficient way to handle missing values. However, this approach may skew the data, if there is a systematic reason for the missing values.\n",
    "- Removing rows with missing values. If there is a reason to believe that the missing values are randomly distributed among rows, removing rows with missing values is a good option. However, removing an entire row when there is just one missing value may lead to a loss of valuable data.\n",
    "- Removing columns with missing values. If a column has a large number of missing values, it may be better to remove the column altogether.\n",
    "- Imputing missing values with the mean, median, or mode of the column. This is a common approach to handling missing values. However, this approach may introduce bias into the data, as it decreases the variance of the variable.\n",
    "- Using machine learning algorithms to predict missing values. This is a more advanced approach to handling missing values. It is computationally expensive, but it may lead to better results.\n",
    "- Using domain knowledge to fill in missing values. This means that a human expert fills in the missing values based on their knowledge of the data. This approach is highly dangerous, as it may introduce bias into the data.\n",
    "\n",
    "Next, we use the first three methods to handle missing values in the Health dataset, the choice og the method depending on the variable at hand.\n",
    "\n",
    "Erroneous values, or outliers, are values that are significantly different from the rest of the data. Outliers can have a significant impact on the performance of the model, as they can skew the data and lead to incorrect predictions. There are several ways to handle erroneous values, including:\n",
    "\n",
    "- Encoding the erroneous as missing values. This is a good approach in many cases.\n",
    "- Removing rows with an erroneous values. This approach may lead to a loss of valuable data.\n",
    "\n",
    "Recognizing erroneous values can be challenging, as they can be caused by a variety of factors, including human error, measurement error, or data corruption. Sometimes, a value may initially appear to be an erroneous value, but upon further investigation, it may turn out to be a valid value. For example, a house with an abnormally high price may eventually turn out to be a luxury house of the local billionaire.\n",
    "\n",
    "Handling missing values and outliers is a complex topic in machine learning, and statistics in general. There is no one-size-fits-all solution, and the best approach depends on the data at hand.\n",
    "\n",
    "## Filtering and visualizing data\n",
    "\n",
    "Now that the data set has been loaded into a data frame, we start exploring the data. The first step is to look for potential errors and outliers in the data. The output of the `describe()` method provides some clues on that:\n",
    "\n",
    "- The minimum value of the Weight column is 8 kg, and the maximum value is 740 kg. These values are almost certainly errors.\n",
    "- Some values in the Cholesterol column are negative, which is impossible.\n",
    "- The values in the BirthYear column vary between 1879 and 2020. There is a possibility that the minimum value is an error. Also, as the subjects should be adults at the time of the survey (year 2024), the maximum value is suspicious.\n",
    "\n",
    "To have a more detailed overview, let's make a graphical representation, a histogram, of each numerical variable. As we may want to make these histograms more than once, we can define a function for that:"
   ]
  },
  {
   "metadata": {
    "ExecuteTime": {
     "end_time": "2024-08-13T11:52:17.196331Z",
     "start_time": "2024-08-13T11:52:16.648254Z"
    }
   },
   "cell_type": "code",
   "source": [
    "import matplotlib.pyplot as plt\n",
    "\n",
    "def plot_data(df):\n",
    "    plt.figure(figsize=(20, 10))\n",
    "    for i, col in enumerate(df.select_dtypes(include=['int', 'float'])):\n",
    "        plt.subplot(3, 3, i + 1)\n",
    "        df[col].plot(kind='hist')\n",
    "        plt.xlabel(col)"
   ],
   "outputs": [],
   "execution_count": 13
  },
  {
   "metadata": {},
   "cell_type": "markdown",
   "source": "Now, we call the function:"
  },
  {
   "metadata": {
    "ExecuteTime": {
     "end_time": "2024-08-13T11:52:27.613689Z",
     "start_time": "2024-08-13T11:52:26.848891Z"
    }
   },
   "cell_type": "code",
   "source": "plot_data(df)",
   "outputs": [
    {
     "data": {
      "text/plain": [
       "<Figure size 2000x1000 with 8 Axes>"
      ],
      "image/png": "[encoded data removed]"
     },
     "metadata": {},
     "output_type": "display_data"
    }
   ],
   "execution_count": 14
  },
  {
   "metadata": {},
   "cell_type": "markdown",
   "source": [
    "In construction of the histogram, we used **Matplotlib**, a popular plotting library for Python. In data analysis, this is one of the options. Other popular libraries include **Seaborn** and **Plotly**.\n",
    "\n",
    "> [Matplotlib documentation](https://matplotlib.org/stable/index.html)\n",
    "\n",
    "> Tip: Each visualization library has its own methods and functions for creating plots. It is a good idea to get familiar with the documentation of the library you are using. Also, AI tools such as **GitHub Copilot** can help you write the visualization code faster. Always remember to understand the code you are using, and not just blindly accept the suggestions.\n",
    "\n",
    "\n",
    "# Filtering rows\n",
    "\n",
    "Let's start the data cleansing by selecting rows that correpond to individuals whose age was between 18 and 99 years at the time of the survey (2024). We can do this by filtering the BirthYear column:"
   ]
  },
  {
   "metadata": {
    "ExecuteTime": {
     "end_time": "2024-08-13T11:52:54.662276Z",
     "start_time": "2024-08-13T11:52:54.634454Z"
    }
   },
   "cell_type": "code",
   "source": [
    "df = df[(df['BirthYear'] <= 2006) & (df['BirthYear'] >= 1925)]\n",
    "df.describe(include='all')"
   ],
   "outputs": [
    {
     "data": {
      "text/plain": [
       "                 ID      Weight     Smoking    Exercise  Cholesterol  \\\n",
       "count    916.000000  915.000000  915.000000  914.000000   916.000000   \n",
       "unique          NaN         NaN         NaN         NaN          NaN   \n",
       "top             NaN         NaN         NaN         NaN          NaN   \n",
       "freq            NaN         NaN         NaN         NaN          NaN   \n",
       "mean     499.403930   80.018579    0.231694    5.086433     5.697380   \n",
       "std      287.480346   26.016589    0.422145    2.028864     1.299682   \n",
       "min        1.000000    8.000000    0.000000    0.000000    -1.900000   \n",
       "25%      253.500000   70.000000    0.000000    4.000000     4.800000   \n",
       "50%      502.500000   80.000000    0.000000    5.000000     5.700000   \n",
       "75%      746.250000   88.000000    0.000000    6.000000     6.600000   \n",
       "max     1000.000000  740.000000    1.000000   10.000000     9.100000   \n",
       "\n",
       "             Income   Happiness    BirthYear  Sex  \n",
       "count    913.000000  915.000000   916.000000  916  \n",
       "unique          NaN         NaN          NaN    2  \n",
       "top             NaN         NaN          NaN    1  \n",
       "freq            NaN         NaN          NaN  479  \n",
       "mean    3055.147864   51.398907  1956.545852  NaN  \n",
       "std     1252.155512   17.507904    17.987278  NaN  \n",
       "min        0.000000    0.000000  1925.000000  NaN  \n",
       "25%     2220.000000   40.000000  1942.000000  NaN  \n",
       "50%     3110.000000   51.000000  1956.000000  NaN  \n",
       "75%     3890.000000   63.000000  1970.000000  NaN  \n",
       "max     7690.000000  100.000000  2006.000000  NaN  "
      ],
      "text/html": [
       "<div>\n",
       "<style scoped>\n",
       "    .dataframe tbody tr th:only-of-type {\n",
       "        vertical-align: middle;\n",
       "    }\n",
       "\n",
       "    .dataframe tbody tr th {\n",
       "        vertical-align: top;\n",
       "    }\n",
       "\n",
       "    .dataframe thead th {\n",
       "        text-align: right;\n",
       "    }\n",
       "</style>\n",
       "<table border=\"1\" class=\"dataframe\">\n",
       "  <thead>\n",
       "    <tr style=\"text-align: right;\">\n",
       "      <th></th>\n",
       "      <th>ID</th>\n",
       "      <th>Weight</th>\n",
       "      <th>Smoking</th>\n",
       "      <th>Exercise</th>\n",
       "      <th>Cholesterol</th>\n",
       "      <th>Income</th>\n",
       "      <th>Happiness</th>\n",
       "      <th>BirthYear</th>\n",
       "      <th>Sex</th>\n",
       "    </tr>\n",
       "  </thead>\n",
       "  <tbody>\n",
       "    <tr>\n",
       "      <th>count</th>\n",
       "      <td>916.000000</td>\n",
       "      <td>915.000000</td>\n",
       "      <td>915.000000</td>\n",
       "      <td>914.000000</td>\n",
       "      <td>916.000000</td>\n",
       "      <td>913.000000</td>\n",
       "      <td>915.000000</td>\n",
       "      <td>916.000000</td>\n",
       "      <td>916</td>\n",
       "    </tr>\n",
       "    <tr>\n",
       "      <th>unique</th>\n",
       "      <td>NaN</td>\n",
       "      <td>NaN</td>\n",
       "      <td>NaN</td>\n",
       "      <td>NaN</td>\n",
       "      <td>NaN</td>\n",
       "      <td>NaN</td>\n",
       "      <td>NaN</td>\n",
       "      <td>NaN</td>\n",
       "      <td>2</td>\n",
       "    </tr>\n",
       "    <tr>\n",
       "      <th>top</th>\n",
       "      <td>NaN</td>\n",
       "      <td>NaN</td>\n",
       "      <td>NaN</td>\n",
       "      <td>NaN</td>\n",
       "      <td>NaN</td>\n",
       "      <td>NaN</td>\n",
       "      <td>NaN</td>\n",
       "      <td>NaN</td>\n",
       "      <td>1</td>\n",
       "    </tr>\n",
       "    <tr>\n",
       "      <th>freq</th>\n",
       "      <td>NaN</td>\n",
       "      <td>NaN</td>\n",
       "      <td>NaN</td>\n",
       "      <td>NaN</td>\n",
       "      <td>NaN</td>\n",
       "      <td>NaN</td>\n",
       "      <td>NaN</td>\n",
       "      <td>NaN</td>\n",
       "      <td>479</td>\n",
       "    </tr>\n",
       "    <tr>\n",
       "      <th>mean</th>\n",
       "      <td>499.403930</td>\n",
       "      <td>80.018579</td>\n",
       "      <td>0.231694</td>\n",
       "      <td>5.086433</td>\n",
       "      <td>5.697380</td>\n",
       "      <td>3055.147864</td>\n",
       "      <td>51.398907</td>\n",
       "      <td>1956.545852</td>\n",
       "      <td>NaN</td>\n",
       "    </tr>\n",
       "    <tr>\n",
       "      <th>std</th>\n",
       "      <td>287.480346</td>\n",
       "      <td>26.016589</td>\n",
       "      <td>0.422145</td>\n",
       "      <td>2.028864</td>\n",
       "      <td>1.299682</td>\n",
       "      <td>1252.155512</td>\n",
       "      <td>17.507904</td>\n",
       "      <td>17.987278</td>\n",
       "      <td>NaN</td>\n",
       "    </tr>\n",
       "    <tr>\n",
       "      <th>min</th>\n",
       "      <td>1.000000</td>\n",
       "      <td>8.000000</td>\n",
       "      <td>0.000000</td>\n",
       "      <td>0.000000</td>\n",
       "      <td>-1.900000</td>\n",
       "      <td>0.000000</td>\n",
       "      <td>0.000000</td>\n",
       "      <td>1925.000000</td>\n",
       "      <td>NaN</td>\n",
       "    </tr>\n",
       "    <tr>\n",
       "      <th>25%</th>\n",
       "      <td>253.500000</td>\n",
       "      <td>70.000000</td>\n",
       "      <td>0.000000</td>\n",
       "      <td>4.000000</td>\n",
       "      <td>4.800000</td>\n",
       "      <td>2220.000000</td>\n",
       "      <td>40.000000</td>\n",
       "      <td>1942.000000</td>\n",
       "      <td>NaN</td>\n",
       "    </tr>\n",
       "    <tr>\n",
       "      <th>50%</th>\n",
       "      <td>502.500000</td>\n",
       "      <td>80.000000</td>\n",
       "      <td>0.000000</td>\n",
       "      <td>5.000000</td>\n",
       "      <td>5.700000</td>\n",
       "      <td>3110.000000</td>\n",
       "      <td>51.000000</td>\n",
       "      <td>1956.000000</td>\n",
       "      <td>NaN</td>\n",
       "    </tr>\n",
       "    <tr>\n",
       "      <th>75%</th>\n",
       "      <td>746.250000</td>\n",
       "      <td>88.000000</td>\n",
       "      <td>0.000000</td>\n",
       "      <td>6.000000</td>\n",
       "      <td>6.600000</td>\n",
       "      <td>3890.000000</td>\n",
       "      <td>63.000000</td>\n",
       "      <td>1970.000000</td>\n",
       "      <td>NaN</td>\n",
       "    </tr>\n",
       "    <tr>\n",
       "      <th>max</th>\n",
       "      <td>1000.000000</td>\n",
       "      <td>740.000000</td>\n",
       "      <td>1.000000</td>\n",
       "      <td>10.000000</td>\n",
       "      <td>9.100000</td>\n",
       "      <td>7690.000000</td>\n",
       "      <td>100.000000</td>\n",
       "      <td>2006.000000</td>\n",
       "      <td>NaN</td>\n",
       "    </tr>\n",
       "  </tbody>\n",
       "</table>\n",
       "</div>"
      ]
     },
     "execution_count": 15,
     "metadata": {},
     "output_type": "execute_result"
    }
   ],
   "execution_count": 15
  },
  {
   "metadata": {},
   "cell_type": "markdown",
   "source": [
    "# Filtering columns\n",
    "\n",
    "Next, we remember that some of the weight values looked suspicious. We  filter the data by making sure all the weights are between 30 and 200 kg. All weights outside this range are replaced with missing values. In a similar fashion, we filter the Cholesterol column by removing all values smaller than 2.0 mmol/l:"
   ]
  },
  {
   "metadata": {
    "ExecuteTime": {
     "end_time": "2024-08-13T11:53:02.606649Z",
     "start_time": "2024-08-13T11:53:02.588393Z"
    }
   },
   "cell_type": "code",
   "source": [
    "df['Weight'] = df['Weight'].apply(lambda x: x if 30 <= x <= 200 else None)\n",
    "df['Cholesterol'] = df['Cholesterol'].apply(lambda x: x if x >= 2.0 else None)\n",
    "df"
   ],
   "outputs": [
    {
     "data": {
      "text/plain": [
       "       ID  Weight  Smoking  Exercise  Cholesterol  Income  Happiness  \\\n",
       "0       1    75.0      0.0       3.0          5.8  3230.0       59.0   \n",
       "1       2    70.0      0.0       6.0          5.9  1420.0       43.0   \n",
       "2       3    76.0      0.0       6.0          6.0  4930.0       74.0   \n",
       "3       4    62.0      0.0       8.0          4.7  2970.0       58.0   \n",
       "4       5    44.0      0.0       8.0          4.3  4780.0       64.0   \n",
       "..    ...     ...      ...       ...          ...     ...        ...   \n",
       "994   995    76.0      0.0      10.0          4.1  2900.0       61.0   \n",
       "996   997    77.0      1.0       4.0          6.6  2990.0       45.0   \n",
       "997   998    71.0      0.0       8.0          4.5  4840.0       74.0   \n",
       "998   999   107.0      1.0       2.0          8.4  2030.0       38.0   \n",
       "999  1000    68.0      0.0       6.0          4.1  5730.0       93.0   \n",
       "\n",
       "     BirthYear Sex  \n",
       "0       1964.0   1  \n",
       "1       1952.0   1  \n",
       "2       1951.0   1  \n",
       "3       1959.0   1  \n",
       "4       1925.0   1  \n",
       "..         ...  ..  \n",
       "994     1960.0   2  \n",
       "996     1971.0   2  \n",
       "997     1935.0   2  \n",
       "998     1929.0   2  \n",
       "999     1983.0   2  \n",
       "\n",
       "[916 rows x 9 columns]"
      ],
      "text/html": [
       "<div>\n",
       "<style scoped>\n",
       "    .dataframe tbody tr th:only-of-type {\n",
       "        vertical-align: middle;\n",
       "    }\n",
       "\n",
       "    .dataframe tbody tr th {\n",
       "        vertical-align: top;\n",
       "    }\n",
       "\n",
       "    .dataframe thead th {\n",
       "        text-align: right;\n",
       "    }\n",
       "</style>\n",
       "<table border=\"1\" class=\"dataframe\">\n",
       "  <thead>\n",
       "    <tr style=\"text-align: right;\">\n",
       "      <th></th>\n",
       "      <th>ID</th>\n",
       "      <th>Weight</th>\n",
       "      <th>Smoking</th>\n",
       "      <th>Exercise</th>\n",
       "      <th>Cholesterol</th>\n",
       "      <th>Income</th>\n",
       "      <th>Happiness</th>\n",
       "      <th>BirthYear</th>\n",
       "      <th>Sex</th>\n",
       "    </tr>\n",
       "  </thead>\n",
       "  <tbody>\n",
       "    <tr>\n",
       "      <th>0</th>\n",
       "      <td>1</td>\n",
       "      <td>75.0</td>\n",
       "      <td>0.0</td>\n",
       "      <td>3.0</td>\n",
       "      <td>5.8</td>\n",
       "      <td>3230.0</td>\n",
       "      <td>59.0</td>\n",
       "      <td>1964.0</td>\n",
       "      <td>1</td>\n",
       "    </tr>\n",
       "    <tr>\n",
       "      <th>1</th>\n",
       "      <td>2</td>\n",
       "      <td>70.0</td>\n",
       "      <td>0.0</td>\n",
       "      <td>6.0</td>\n",
       "      <td>5.9</td>\n",
       "      <td>1420.0</td>\n",
       "      <td>43.0</td>\n",
       "      <td>1952.0</td>\n",
       "      <td>1</td>\n",
       "    </tr>\n",
       "    <tr>\n",
       "      <th>2</th>\n",
       "      <td>3</td>\n",
       "      <td>76.0</td>\n",
       "      <td>0.0</td>\n",
       "      <td>6.0</td>\n",
       "      <td>6.0</td>\n",
       "      <td>4930.0</td>\n",
       "      <td>74.0</td>\n",
       "      <td>1951.0</td>\n",
       "      <td>1</td>\n",
       "    </tr>\n",
       "    <tr>\n",
       "      <th>3</th>\n",
       "      <td>4</td>\n",
       "      <td>62.0</td>\n",
       "      <td>0.0</td>\n",
       "      <td>8.0</td>\n",
       "      <td>4.7</td>\n",
       "      <td>2970.0</td>\n",
       "      <td>58.0</td>\n",
       "      <td>1959.0</td>\n",
       "      <td>1</td>\n",
       "    </tr>\n",
       "    <tr>\n",
       "      <th>4</th>\n",
       "      <td>5</td>\n",
       "      <td>44.0</td>\n",
       "      <td>0.0</td>\n",
       "      <td>8.0</td>\n",
       "      <td>4.3</td>\n",
       "      <td>4780.0</td>\n",
       "      <td>64.0</td>\n",
       "      <td>1925.0</td>\n",
       "      <td>1</td>\n",
       "    </tr>\n",
       "    <tr>\n",
       "      <th>...</th>\n",
       "      <td>...</td>\n",
       "      <td>...</td>\n",
       "      <td>...</td>\n",
       "      <td>...</td>\n",
       "      <td>...</td>\n",
       "      <td>...</td>\n",
       "      <td>...</td>\n",
       "      <td>...</td>\n",
       "      <td>...</td>\n",
       "    </tr>\n",
       "    <tr>\n",
       "      <th>994</th>\n",
       "      <td>995</td>\n",
       "      <td>76.0</td>\n",
       "      <td>0.0</td>\n",
       "      <td>10.0</td>\n",
       "      <td>4.1</td>\n",
       "      <td>2900.0</td>\n",
       "      <td>61.0</td>\n",
       "      <td>1960.0</td>\n",
       "      <td>2</td>\n",
       "    </tr>\n",
       "    <tr>\n",
       "      <th>996</th>\n",
       "      <td>997</td>\n",
       "      <td>77.0</td>\n",
       "      <td>1.0</td>\n",
       "      <td>4.0</td>\n",
       "      <td>6.6</td>\n",
       "      <td>2990.0</td>\n",
       "      <td>45.0</td>\n",
       "      <td>1971.0</td>\n",
       "      <td>2</td>\n",
       "    </tr>\n",
       "    <tr>\n",
       "      <th>997</th>\n",
       "      <td>998</td>\n",
       "      <td>71.0</td>\n",
       "      <td>0.0</td>\n",
       "      <td>8.0</td>\n",
       "      <td>4.5</td>\n",
       "      <td>4840.0</td>\n",
       "      <td>74.0</td>\n",
       "      <td>1935.0</td>\n",
       "      <td>2</td>\n",
       "    </tr>\n",
       "    <tr>\n",
       "      <th>998</th>\n",
       "      <td>999</td>\n",
       "      <td>107.0</td>\n",
       "      <td>1.0</td>\n",
       "      <td>2.0</td>\n",
       "      <td>8.4</td>\n",
       "      <td>2030.0</td>\n",
       "      <td>38.0</td>\n",
       "      <td>1929.0</td>\n",
       "      <td>2</td>\n",
       "    </tr>\n",
       "    <tr>\n",
       "      <th>999</th>\n",
       "      <td>1000</td>\n",
       "      <td>68.0</td>\n",
       "      <td>0.0</td>\n",
       "      <td>6.0</td>\n",
       "      <td>4.1</td>\n",
       "      <td>5730.0</td>\n",
       "      <td>93.0</td>\n",
       "      <td>1983.0</td>\n",
       "      <td>2</td>\n",
       "    </tr>\n",
       "  </tbody>\n",
       "</table>\n",
       "<p>916 rows × 9 columns</p>\n",
       "</div>"
      ]
     },
     "execution_count": 16,
     "metadata": {},
     "output_type": "execute_result"
    }
   ],
   "execution_count": 16
  },
  {
   "metadata": {},
   "cell_type": "markdown",
   "source": "At this point, we probably want to re-plot the histograms with the previously-written function to see if the filtering has had the desired effect:"
  },
  {
   "metadata": {
    "ExecuteTime": {
     "end_time": "2024-08-13T11:50:37.348805Z",
     "start_time": "2024-08-13T11:50:37.348805Z"
    }
   },
   "cell_type": "code",
   "source": "plot_data(df)",
   "outputs": [],
   "execution_count": null
  },
  {
   "metadata": {},
   "cell_type": "markdown",
   "source": [
    "\n",
    "At this point, the data has undergone initial inspection and cleaning. To get familiar with various data preprocessing options, we play around with the data a bit more.\n",
    "\n",
    "## Adding a new variable\n",
    "\n",
    "In the existing data set, there is a fixed set of variables. Let's suppose that we want to divide the persons into two group, A, and B, at random. We can do this by adding a new variable, Group, to the data set. New columns can be added to a data frame by simply assigning values to them:"
   ]
  },
  {
   "cell_type": "code",
   "source": [
    "np.random.seed(42)\n",
    "df['Group'] = np.random.choice(['A', 'B'], size=len(df))\n",
    "df"
   ],
   "metadata": {
    "collapsed": false,
    "ExecuteTime": {
     "end_time": "2024-08-13T11:50:37.364434Z",
     "start_time": "2024-08-13T11:50:37.364434Z"
    }
   },
   "outputs": [],
   "execution_count": null
  },
  {
   "cell_type": "markdown",
   "source": [
    "## Renaming variables\n",
    "\n",
    "Renaming a variable is a common task. Let's rename the Smoking variable to Smoker:"
   ],
   "metadata": {
    "collapsed": false
   }
  },
  {
   "cell_type": "code",
   "source": [
    "df.rename(columns={'Smoking': 'Smoker'}, inplace=True)\n",
    "df"
   ],
   "metadata": {
    "collapsed": false,
    "ExecuteTime": {
     "end_time": "2024-08-13T11:50:37.364434Z",
     "start_time": "2024-08-13T11:50:37.364434Z"
    }
   },
   "outputs": [],
   "execution_count": null
  },
  {
   "cell_type": "markdown",
   "source": [
    "The parameter `inplace=True` modifies the data frame in place, without creating a new data frame. If `inplace=False`, a new data frame is created, and the original data frame is not modified. The columns to be renamed are specified in a dictionary, where the keys are the old column names, and the values are the new column names."
   ],
   "metadata": {
    "collapsed": false
   }
  },
  {
   "cell_type": "markdown",
   "source": [
    "## Merging data frames\n",
    "\n",
    "Sometimes we need to combine two or more datasets based on the value of a common variable. This is called merging. Let's suppose we have another data set, Health2, which contains the ID values and blood glucose (sugar) values of the individuals. As the values are available for just a handful of individuals, we construct the dataframe manually from a dictionary (alternatively we could use the `pd.read_csv` function):"
   ],
   "metadata": {
    "collapsed": false
   }
  },
  {
   "cell_type": "code",
   "source": [
    "# construct data set with ID and blood glucose values for some individuals\n",
    "data = {'ID': [1, 3, 5, 7, 9],\n",
    "        'Glucose': [5.2, 6.1, 5.8, 6.5, 5.9]}\n",
    "df2 = pd.DataFrame(data)\n",
    "df2"
   ],
   "metadata": {
    "collapsed": false,
    "ExecuteTime": {
     "end_time": "2024-08-13T11:50:37.364434Z",
     "start_time": "2024-08-13T11:50:37.364434Z"
    }
   },
   "outputs": [],
   "execution_count": null
  },
  {
   "cell_type": "markdown",
   "source": [
    "Now we proceed with the merging. We combine the values of `df2` into `df` based on the ID variable:"
   ],
   "metadata": {
    "collapsed": false
   }
  },
  {
   "cell_type": "code",
   "source": [
    "df = pd.merge(df, df2, on='ID', how='left')\n",
    "df"
   ],
   "metadata": {
    "collapsed": false,
    "ExecuteTime": {
     "end_time": "2024-08-13T11:50:37.364434Z",
     "start_time": "2024-08-13T11:50:37.364434Z"
    }
   },
   "outputs": [],
   "execution_count": null
  },
  {
   "cell_type": "markdown",
   "source": [
    "Note that all the remaining values in the Glucose column are automatically encoded as missing. This is because the merge operation is a left join, which means that all the values in the left data frame (`df`) are retained, and the missing values are filled with `NaN`. You may notice the resemblance of the `merge` function to the SQL `JOIN` operation.\n",
    "\n",
    "## Dropping variables\n",
    "\n",
    "Next, we drop the newly-created Group variable from the data frame, just to demonstrate how it is done:"
   ],
   "metadata": {
    "collapsed": false
   }
  },
  {
   "cell_type": "code",
   "source": [
    "df.drop(columns=['Group'], inplace=True)\n",
    "df"
   ],
   "metadata": {
    "collapsed": false,
    "ExecuteTime": {
     "end_time": "2024-08-13T11:50:37.364434Z",
     "start_time": "2024-08-13T11:50:37.364434Z"
    }
   },
   "outputs": [],
   "execution_count": null
  },
  {
   "cell_type": "markdown",
   "source": [
    "\n",
    "# Plotting a correlation matrix\n",
    "\n",
    "Finally, we create a correlation matrix that displays the relationships between pairs of variables in the data set. This is done with the `corr()` method, which calculates the Pearson correlation coefficient between pairs of variables.\n",
    "\n",
    "> As the ID variable is a unique identifier for each individual, it does not make sense to include it in the correlation matrix. We temporarily drop the variable from the data frame for the calculation:"
   ],
   "metadata": {
    "collapsed": false
   }
  },
  {
   "cell_type": "code",
   "source": [
    "# calculate correlation matrix\n",
    "corr = df.drop(columns=['ID']).corr()\n",
    "corr"
   ],
   "metadata": {
    "collapsed": false,
    "ExecuteTime": {
     "end_time": "2024-08-13T11:50:37.364434Z",
     "start_time": "2024-08-13T11:50:37.364434Z"
    }
   },
   "outputs": [],
   "execution_count": null
  },
  {
   "cell_type": "markdown",
   "source": [
    "For each pair of variables in the data set, the correlation matrix shows the strength and direction of the relationship between the variables. The correlation coefficient ranges from -1 to 1, where -1 indicates a perfect negative relationship, 1 indicates a perfect positive relationship, and 0 indicates no relationship.\n",
    "\n",
    "We can visualize the correlation matrix with a heatmap:"
   ],
   "metadata": {
    "collapsed": false
   }
  },
  {
   "cell_type": "code",
   "source": [
    "# create heatmap with Matplotlib\n",
    "\n",
    "plt.figure(figsize=(10, 10))\n",
    "plt.imshow(corr, cmap='coolwarm', interpolation='none')\n",
    "plt.colorbar()\n",
    "plt.xticks(range(len(corr)), corr.columns, rotation=90)\n",
    "plt.yticks(range(len(corr)), corr.columns)\n",
    "plt.show()"
   ],
   "metadata": {
    "collapsed": false,
    "ExecuteTime": {
     "end_time": "2024-08-13T11:50:37.364434Z",
     "start_time": "2024-08-13T11:50:37.364434Z"
    }
   },
   "outputs": [],
   "execution_count": null
  },
  {
   "cell_type": "markdown",
   "source": [
    "From the correlation matrix, we can observer, for example that:\n",
    "- Weight and Cholesterol are positively correlated. The heigher the weight, the higher the cholesterol seems to be.\n",
    "- Exercise and Happiness are positively correlated. The more the individual exercises, the happier they seem to be.\n",
    "- Exercise and Cholesterol are negatively correlated. The more the individual exercises, the lower the cholesterol seems to be.\n",
    "\n",
    "At this point, it is crucial to understand the difference between correlation and causation. Correlation does not imply causation. Just because two variables are correlated does not mean that one variable causes the other. There may be other factors at play that are causing the correlation. For example, exercising more doesn't necessarily cause an individual's cholesterol level to decrease (causation). It may be that people who exercise more also eat healthier, which leads to lower cholesterol levels (correlation).\n",
    "\n",
    "Printing the correlation matrix is a good way to get an overview of the relationships between variables in the data set. It can help understand the data, and it can provide ideas of how to proceed with the actual analysis."
   ],
   "metadata": {
    "collapsed": false
   }
  },
  {
   "cell_type": "markdown",
   "source": [
    "# Playing with Matplotlib: a cumulative distribution function\n",
    "\n",
    "In the previous examples, we used **Matplotlib** to create histograms and heatmaps. Matplotlib is a powerful library for creating static, animated, and interactive visualizations in Python. It is widely used in data science, machine learning, and scientific computing.\n",
    "\n",
    "In this example, we will create a cumulative distribution function (CDF) plot using Matplotlib. A cumulative distribution function is a function that maps a value to the probability that a random variable is less than or equal to that value. It is a useful tool for visualizing the distribution of a dataset at even better detail than a histogram.\n",
    "\n",
    "Let's start by plotting the CDF of the Cholesterol variable in the Health dataset:"
   ],
   "metadata": {
    "collapsed": false
   }
  },
  {
   "cell_type": "code",
   "source": [
    "# sort the values in the Cholesterol column\n",
    "sorted_data = df['Cholesterol'].sort_values()\n",
    "\n",
    "# create a list of evenly spaced values between 0 and 1\n",
    "cumulative = np.linspace(0, 1, len(sorted_data))\n",
    "\n",
    "# create the plot\n",
    "plt.figure(figsize=(10, 5))\n",
    "plt.plot(sorted_data, cumulative)\n",
    "plt.xlabel('Cholesterol')\n",
    "plt.ylabel('Cumulative probability')\n",
    "plt.title('Cumulative distribution function of cholesterol')\n",
    "plt.show()\n"
   ],
   "metadata": {
    "collapsed": false,
    "ExecuteTime": {
     "end_time": "2024-08-13T11:50:37.364434Z",
     "start_time": "2024-08-13T11:50:37.364434Z"
    }
   },
   "outputs": [],
   "execution_count": null
  },
  {
   "cell_type": "markdown",
   "source": [
    "From the CDF we can read, for example, that around 80% of the individuals have a cholesterol level below 7 mmol/l.\n",
    "\n",
    "This concludes the data preprocessing and visualization section. In the next section, we are ready to start building machine learning models using the cleaned and transformed data."
   ],
   "metadata": {
    "collapsed": false
   }
  }
 ],
 "metadata": {
  "kernelspec": {
   "display_name": "Python 3",
   "language": "python",
   "name": "python3"
  },
  "language_info": {
   "codemirror_mode": {
    "name": "ipython",
    "version": 2
   },
   "file_extension": ".py",
   "mimetype": "text/x-python",
   "name": "python",
   "nbconvert_exporter": "python",
   "pygments_lexer": "ipython2",
   "version": "2.7.6"
  }
 },
 "nbformat": 4,
 "nbformat_minor": 0
}
